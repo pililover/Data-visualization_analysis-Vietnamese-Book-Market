{
 "cells": [
  {
   "cell_type": "code",
   "execution_count": null,
   "metadata": {},
   "outputs": [
    {
     "ename": "NoSuchElementException",
     "evalue": "Message: no such element: Unable to locate element: {\"method\":\"css selector\",\"selector\":\"input[type='checkbox']\"}\n  (Session info: chrome=134.0.6998.118); For documentation on this error, please visit: https://www.selenium.dev/documentation/webdriver/troubleshooting/errors#no-such-element-exception\nStacktrace:\n\tGetHandleVerifier [0x00007FF7C4324C25+3179557]\n\t(No symbol) [0x00007FF7C3F888A0]\n\t(No symbol) [0x00007FF7C3E191CA]\n\t(No symbol) [0x00007FF7C3E6FA67]\n\t(No symbol) [0x00007FF7C3E6FC9C]\n\t(No symbol) [0x00007FF7C3EC3627]\n\t(No symbol) [0x00007FF7C3E97C6F]\n\t(No symbol) [0x00007FF7C3EC02F3]\n\t(No symbol) [0x00007FF7C3E97A03]\n\t(No symbol) [0x00007FF7C3E606D0]\n\t(No symbol) [0x00007FF7C3E61983]\n\tGetHandleVerifier [0x00007FF7C43867CD+3579853]\n\tGetHandleVerifier [0x00007FF7C439D1D2+3672530]\n\tGetHandleVerifier [0x00007FF7C4392153+3627347]\n\tGetHandleVerifier [0x00007FF7C40F092A+868650]\n\t(No symbol) [0x00007FF7C3F92FFF]\n\t(No symbol) [0x00007FF7C3F8F4A4]\n\t(No symbol) [0x00007FF7C3F8F646]\n\t(No symbol) [0x00007FF7C3F7EAA9]\n\tBaseThreadInitThunk [0x00007FFE87E3257D+29]\n\tRtlUserThreadStart [0x00007FFE893AAF08+40]\n",
     "output_type": "error",
     "traceback": [
      "\u001b[1;31m---------------------------------------------------------------------------\u001b[0m",
      "\u001b[1;31mNoSuchElementException\u001b[0m                    Traceback (most recent call last)",
      "Cell \u001b[1;32mIn[15], line 36\u001b[0m\n\u001b[0;32m     33\u001b[0m \u001b[38;5;66;03m# Chờ trang tải (tùy vào tốc độ của trang, có thể cần điều chỉnh thời gian)\u001b[39;00m\n\u001b[0;32m     34\u001b[0m time\u001b[38;5;241m.\u001b[39msleep(\u001b[38;5;241m3\u001b[39m)\n\u001b[1;32m---> 36\u001b[0m checkbox \u001b[38;5;241m=\u001b[39m \u001b[43mdriver\u001b[49m\u001b[38;5;241;43m.\u001b[39;49m\u001b[43mfind_element\u001b[49m\u001b[43m(\u001b[49m\u001b[43mBy\u001b[49m\u001b[38;5;241;43m.\u001b[39;49m\u001b[43mCSS_SELECTOR\u001b[49m\u001b[43m,\u001b[49m\u001b[43m \u001b[49m\u001b[38;5;124;43m\"\u001b[39;49m\u001b[38;5;124;43minput[type=\u001b[39;49m\u001b[38;5;124;43m'\u001b[39;49m\u001b[38;5;124;43mcheckbox\u001b[39;49m\u001b[38;5;124;43m'\u001b[39;49m\u001b[38;5;124;43m]\u001b[39;49m\u001b[38;5;124;43m\"\u001b[39;49m\u001b[43m)\u001b[49m\n\u001b[0;32m     37\u001b[0m checkbox\u001b[38;5;241m.\u001b[39mclick()\n\u001b[0;32m     40\u001b[0m \u001b[38;5;66;03m# Lấy URL của trang hiện tại\u001b[39;00m\n",
      "File \u001b[1;32mc:\\Users\\ADMIN\\AppData\\Local\\Programs\\Python\\Python313\\Lib\\site-packages\\selenium\\webdriver\\remote\\webdriver.py:888\u001b[0m, in \u001b[0;36mWebDriver.find_element\u001b[1;34m(self, by, value)\u001b[0m\n\u001b[0;32m    885\u001b[0m         \u001b[38;5;28;01mraise\u001b[39;00m NoSuchElementException(\u001b[38;5;124mf\u001b[39m\u001b[38;5;124m\"\u001b[39m\u001b[38;5;124mCannot locate relative element with: \u001b[39m\u001b[38;5;132;01m{\u001b[39;00mby\u001b[38;5;241m.\u001b[39mroot\u001b[38;5;132;01m}\u001b[39;00m\u001b[38;5;124m\"\u001b[39m)\n\u001b[0;32m    886\u001b[0m     \u001b[38;5;28;01mreturn\u001b[39;00m elements[\u001b[38;5;241m0\u001b[39m]\n\u001b[1;32m--> 888\u001b[0m \u001b[38;5;28;01mreturn\u001b[39;00m \u001b[38;5;28;43mself\u001b[39;49m\u001b[38;5;241;43m.\u001b[39;49m\u001b[43mexecute\u001b[49m\u001b[43m(\u001b[49m\u001b[43mCommand\u001b[49m\u001b[38;5;241;43m.\u001b[39;49m\u001b[43mFIND_ELEMENT\u001b[49m\u001b[43m,\u001b[49m\u001b[43m \u001b[49m\u001b[43m{\u001b[49m\u001b[38;5;124;43m\"\u001b[39;49m\u001b[38;5;124;43musing\u001b[39;49m\u001b[38;5;124;43m\"\u001b[39;49m\u001b[43m:\u001b[49m\u001b[43m \u001b[49m\u001b[43mby\u001b[49m\u001b[43m,\u001b[49m\u001b[43m \u001b[49m\u001b[38;5;124;43m\"\u001b[39;49m\u001b[38;5;124;43mvalue\u001b[39;49m\u001b[38;5;124;43m\"\u001b[39;49m\u001b[43m:\u001b[49m\u001b[43m \u001b[49m\u001b[43mvalue\u001b[49m\u001b[43m}\u001b[49m\u001b[43m)\u001b[49m[\u001b[38;5;124m\"\u001b[39m\u001b[38;5;124mvalue\u001b[39m\u001b[38;5;124m\"\u001b[39m]\n",
      "File \u001b[1;32mc:\\Users\\ADMIN\\AppData\\Local\\Programs\\Python\\Python313\\Lib\\site-packages\\selenium\\webdriver\\remote\\webdriver.py:429\u001b[0m, in \u001b[0;36mWebDriver.execute\u001b[1;34m(self, driver_command, params)\u001b[0m\n\u001b[0;32m    427\u001b[0m response \u001b[38;5;241m=\u001b[39m \u001b[38;5;28mself\u001b[39m\u001b[38;5;241m.\u001b[39mcommand_executor\u001b[38;5;241m.\u001b[39mexecute(driver_command, params)\n\u001b[0;32m    428\u001b[0m \u001b[38;5;28;01mif\u001b[39;00m response:\n\u001b[1;32m--> 429\u001b[0m     \u001b[38;5;28;43mself\u001b[39;49m\u001b[38;5;241;43m.\u001b[39;49m\u001b[43merror_handler\u001b[49m\u001b[38;5;241;43m.\u001b[39;49m\u001b[43mcheck_response\u001b[49m\u001b[43m(\u001b[49m\u001b[43mresponse\u001b[49m\u001b[43m)\u001b[49m\n\u001b[0;32m    430\u001b[0m     response[\u001b[38;5;124m\"\u001b[39m\u001b[38;5;124mvalue\u001b[39m\u001b[38;5;124m\"\u001b[39m] \u001b[38;5;241m=\u001b[39m \u001b[38;5;28mself\u001b[39m\u001b[38;5;241m.\u001b[39m_unwrap_value(response\u001b[38;5;241m.\u001b[39mget(\u001b[38;5;124m\"\u001b[39m\u001b[38;5;124mvalue\u001b[39m\u001b[38;5;124m\"\u001b[39m, \u001b[38;5;28;01mNone\u001b[39;00m))\n\u001b[0;32m    431\u001b[0m     \u001b[38;5;28;01mreturn\u001b[39;00m response\n",
      "File \u001b[1;32mc:\\Users\\ADMIN\\AppData\\Local\\Programs\\Python\\Python313\\Lib\\site-packages\\selenium\\webdriver\\remote\\errorhandler.py:232\u001b[0m, in \u001b[0;36mErrorHandler.check_response\u001b[1;34m(self, response)\u001b[0m\n\u001b[0;32m    230\u001b[0m         alert_text \u001b[38;5;241m=\u001b[39m value[\u001b[38;5;124m\"\u001b[39m\u001b[38;5;124malert\u001b[39m\u001b[38;5;124m\"\u001b[39m]\u001b[38;5;241m.\u001b[39mget(\u001b[38;5;124m\"\u001b[39m\u001b[38;5;124mtext\u001b[39m\u001b[38;5;124m\"\u001b[39m)\n\u001b[0;32m    231\u001b[0m     \u001b[38;5;28;01mraise\u001b[39;00m exception_class(message, screen, stacktrace, alert_text)  \u001b[38;5;66;03m# type: ignore[call-arg]  # mypy is not smart enough here\u001b[39;00m\n\u001b[1;32m--> 232\u001b[0m \u001b[38;5;28;01mraise\u001b[39;00m exception_class(message, screen, stacktrace)\n",
      "\u001b[1;31mNoSuchElementException\u001b[0m: Message: no such element: Unable to locate element: {\"method\":\"css selector\",\"selector\":\"input[type='checkbox']\"}\n  (Session info: chrome=134.0.6998.118); For documentation on this error, please visit: https://www.selenium.dev/documentation/webdriver/troubleshooting/errors#no-such-element-exception\nStacktrace:\n\tGetHandleVerifier [0x00007FF7C4324C25+3179557]\n\t(No symbol) [0x00007FF7C3F888A0]\n\t(No symbol) [0x00007FF7C3E191CA]\n\t(No symbol) [0x00007FF7C3E6FA67]\n\t(No symbol) [0x00007FF7C3E6FC9C]\n\t(No symbol) [0x00007FF7C3EC3627]\n\t(No symbol) [0x00007FF7C3E97C6F]\n\t(No symbol) [0x00007FF7C3EC02F3]\n\t(No symbol) [0x00007FF7C3E97A03]\n\t(No symbol) [0x00007FF7C3E606D0]\n\t(No symbol) [0x00007FF7C3E61983]\n\tGetHandleVerifier [0x00007FF7C43867CD+3579853]\n\tGetHandleVerifier [0x00007FF7C439D1D2+3672530]\n\tGetHandleVerifier [0x00007FF7C4392153+3627347]\n\tGetHandleVerifier [0x00007FF7C40F092A+868650]\n\t(No symbol) [0x00007FF7C3F92FFF]\n\t(No symbol) [0x00007FF7C3F8F4A4]\n\t(No symbol) [0x00007FF7C3F8F646]\n\t(No symbol) [0x00007FF7C3F7EAA9]\n\tBaseThreadInitThunk [0x00007FFE87E3257D+29]\n\tRtlUserThreadStart [0x00007FFE893AAF08+40]\n"
     ]
    }
   ],
   "source": [
    "from selenium import webdriver\n",
    "from selenium.webdriver.common.by import By\n",
    "import time\n",
    "\n",
    "# Khởi tạo driver\n",
    "driver = webdriver.Chrome()\n",
    "\n",
    "# Mở trang HTML của bạn\n",
    "driver.get(\"https://batdongsan.com.vn/nha-dat-ban\")\n",
    "\n",
    "# Chờ một chút để trang tải xong\n",
    "time.sleep(3)\n",
    "\n",
    "# Tìm phần tử thanh tìm kiếm và click vào nó\n",
    "search_button = driver.find_element(By.XPATH, \"//div[@aria-label='Hồ Chí Minh']\")\n",
    "search_button.click()\n",
    "\n",
    "# Chờ thêm một chút để danh sách các tỉnh thành hiển thị\n",
    "time.sleep(2)\n",
    "\n",
    "# Lấy danh sách các tỉnh thành\n",
    "city_list = driver.find_elements(By.CSS_SELECTOR, \".re__city-search-select-list-wrapper ul li\")\n",
    "\n",
    "# Duyệt qua từng tỉnh thành và thực hiện hành động\n",
    "for city in city_list:\n",
    "    # Click vào tỉnh thành\n",
    "    city.click()\n",
    "    \n",
    "    # Nhấn nút \"Tìm kiếm\"\n",
    "    search_button = driver.find_element(By.ID, \"btnSearch\")\n",
    "    search_button.click()\n",
    "    \n",
    "    # Chờ trang tải (tùy vào tốc độ của trang, có thể cần điều chỉnh thời gian)\n",
    "    time.sleep(3)\n",
    "    \n",
    "    \n",
    "    # Lấy URL của trang hiện tại\n",
    "    current_url = driver.current_url\n",
    "    print(f\"URL của tỉnh thành {city.text}: {current_url}\")\n",
    "\n",
    "# Đóng driver sau khi hoàn thành\n",
    "driver.quit()"
   ]
  }
 ],
 "metadata": {
  "kernelspec": {
   "display_name": "Python 3",
   "language": "python",
   "name": "python3"
  },
  "language_info": {
   "codemirror_mode": {
    "name": "ipython",
    "version": 3
   },
   "file_extension": ".py",
   "mimetype": "text/x-python",
   "name": "python",
   "nbconvert_exporter": "python",
   "pygments_lexer": "ipython3",
   "version": "3.13.2"
  }
 },
 "nbformat": 4,
 "nbformat_minor": 2
}
