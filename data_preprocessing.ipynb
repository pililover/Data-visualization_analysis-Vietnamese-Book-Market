{
  "cells": [
    {
      "cell_type": "markdown",
      "metadata": {
        "id": "lVKiOtO09128"
      },
      "source": [
        "<div style=\"font-family: Arial, Helvetica, sans-serif;\">\n",
        "    <div style=\"display: flex;padding-top: 20px\">\n",
        "        <div><strong>Môn học:</strong> Trực quan hóa dữ liệu</div>\n",
        "    </div>\n",
        "    <div style=\"display: flex;padding-top: 20px\">\n",
        "        <div style=\"padding-right: 10px;\"><strong>Lớp:</strong> 22KHDL</div>\n",
        "        <div></div>\n",
        "    </div>\n",
        "    <div>\n",
        "        <div style=\"display: flex;padding-top: 20px\">\n",
        "            <div style=\"padding-right: 10px;\"><strong>Thành viên:</strong></div>\n",
        "            <div></div>\n",
        "        </div>\n",
        "        <table style=\"font-size: 15px; display:flex;padding-top: 20px\">\n",
        "            <tr>\n",
        "                <th>No.</th>\n",
        "                <th>Student ID</th>\n",
        "                <th>Name</th>\n",
        "            </tr>\n",
        "            <tr>\n",
        "                <td>1</td>\n",
        "                <td>22127008</td>\n",
        "                <td style=\"text-align:left;\">Đặng Châu Anh</td>\n",
        "            </tr>\n",
        "            <tr>\n",
        "                <td>2</td>\n",
        "                <td>22127014</td>\n",
        "                <td style=\"text-align:left;\">Nguyễn Kim Anh</td>\n",
        "            </tr>\n",
        "            <tr>\n",
        "                <td>3</td>\n",
        "                <td>22127170</td>\n",
        "                <td style=\"text-align:left;\">Trần Dịu Huyền</td>\n",
        "            </tr>\n",
        "            <tr>\n",
        "                <td>4</td>\n",
        "                <td>22127</td>\n",
        "                <td style=\"text-align:left;\">Nguyen Tran Trung Kien</td>\n",
        "            </tr>\n",
        "            <tr>\n",
        "                <td>5</td>\n",
        "                <td>22127</td>\n",
        "                <td style=\"text-align:left;\">Quach Tran Quan Vinh</td>\n",
        "            </tr>\n",
        "        </table>\n",
        "    </div>\n",
        "    <div style=\"font-size: 25px ;font-weight: 800; text-align: center;padding-top: 20px;\">ĐỒ ÁN CUỐI KÌ - TIỀN XỬ LÍ DỮ LIỆU</div>\n",
        "    <div style=\"font-size: 20px ;font-weight: 800; text-align: center;padding-top: 20px;\">SÁCH</div>\n",
        "</div>"
      ]
    },
    {
      "cell_type": "code",
      "execution_count": 1,
      "metadata": {
        "colab": {
          "base_uri": "https://localhost:8080/"
        },
        "id": "_-ZkF4sl-cZD",
        "outputId": "410f5e31-da69-4ca6-bd2e-d316627d9ba3"
      },
      "outputs": [],
      "source": [
        "# from google.colab import drive\n",
        "# drive.mount('/content/drive')"
      ]
    },
    {
      "cell_type": "markdown",
      "metadata": {
        "id": "O88IxQP39yew"
      },
      "source": [
        "# **Thư viện**"
      ]
    },
    {
      "cell_type": "code",
      "execution_count": 1,
      "metadata": {
        "id": "ml9WkjYq9yCt"
      },
      "outputs": [],
      "source": [
        "import numpy as np\n",
        "import pandas as pd"
      ]
    },
    {
      "cell_type": "markdown",
      "metadata": {
        "id": "ZRX4SITa-FHj"
      },
      "source": [
        "# **Đọc file dữ liệu**"
      ]
    },
    {
      "cell_type": "code",
      "execution_count": 3,
      "metadata": {
        "colab": {
          "base_uri": "https://localhost:8080/",
          "height": 310
        },
        "id": "TcxVO7hV-P2t",
        "outputId": "d0e19723-9490-4582-dfda-9512f3494bbc"
      },
      "outputs": [
        {
          "data": {
            "text/html": [
              "<div>\n",
              "<style scoped>\n",
              "    .dataframe tbody tr th:only-of-type {\n",
              "        vertical-align: middle;\n",
              "    }\n",
              "\n",
              "    .dataframe tbody tr th {\n",
              "        vertical-align: top;\n",
              "    }\n",
              "\n",
              "    .dataframe thead th {\n",
              "        text-align: right;\n",
              "    }\n",
              "</style>\n",
              "<table border=\"1\" class=\"dataframe\">\n",
              "  <thead>\n",
              "    <tr style=\"text-align: right;\">\n",
              "      <th></th>\n",
              "      <th>Mã sách</th>\n",
              "      <th>Tên sách</th>\n",
              "      <th>Lượt bán</th>\n",
              "      <th>Giá</th>\n",
              "      <th>Tác giả</th>\n",
              "      <th>Người dịch</th>\n",
              "      <th>Ngôn ngữ</th>\n",
              "      <th>Năm xuất bản</th>\n",
              "      <th>Xu hướng</th>\n",
              "      <th>Hình thức</th>\n",
              "      <th>Ratings</th>\n",
              "      <th>Thể loại</th>\n",
              "      <th>Link</th>\n",
              "      <th>Số trang</th>\n",
              "    </tr>\n",
              "  </thead>\n",
              "  <tbody>\n",
              "    <tr>\n",
              "      <th>0</th>\n",
              "      <td>8936214272648</td>\n",
              "      <td>Góc Nhỏ Có Nắng</td>\n",
              "      <td>10k+</td>\n",
              "      <td>68.000 đ</td>\n",
              "      <td>Little Rainbow</td>\n",
              "      <td>NaN</td>\n",
              "      <td>Tiếng Việt</td>\n",
              "      <td>2024</td>\n",
              "      <td>Trending</td>\n",
              "      <td>Bìa Mềm</td>\n",
              "      <td>5.0/5 (0 đánh giá)</td>\n",
              "      <td>Văn Học</td>\n",
              "      <td>https://www.fahasa.com/goc-nho-co-nang.html</td>\n",
              "      <td>64.0</td>\n",
              "    </tr>\n",
              "    <tr>\n",
              "      <th>1</th>\n",
              "      <td>8932000134749</td>\n",
              "      <td>Nếu Biết Trăm Năm Là Hữu Hạn - Ấn Bản Kỉ Niệm ...</td>\n",
              "      <td>1.9k</td>\n",
              "      <td>159.000 đ</td>\n",
              "      <td>Phạm Lữ Ân</td>\n",
              "      <td>NaN</td>\n",
              "      <td>Tiếng Việt</td>\n",
              "      <td>2024</td>\n",
              "      <td>Trending</td>\n",
              "      <td>Bìa Mềm</td>\n",
              "      <td>0.0/5 (0 đánh giá)</td>\n",
              "      <td>Văn Học</td>\n",
              "      <td>https://www.fahasa.com/neu-biet-tram-nam-la-hu...</td>\n",
              "      <td>263.0</td>\n",
              "    </tr>\n",
              "    <tr>\n",
              "      <th>2</th>\n",
              "      <td>8934974182375</td>\n",
              "      <td>Người Đàn Ông Mang Tên OVE (Tái Bản)</td>\n",
              "      <td>2.5k</td>\n",
              "      <td>160.000 đ</td>\n",
              "      <td>Fredrik Backman</td>\n",
              "      <td>Hoàng Anh</td>\n",
              "      <td>Tiếng Việt</td>\n",
              "      <td>2022</td>\n",
              "      <td>Trending</td>\n",
              "      <td>Bìa Mềm</td>\n",
              "      <td>0.0/5 (0 đánh giá)</td>\n",
              "      <td>Văn Học</td>\n",
              "      <td>https://www.fahasa.com/nguoi-dan-ong-mang-ten-...</td>\n",
              "      <td>452.0</td>\n",
              "    </tr>\n",
              "    <tr>\n",
              "      <th>3</th>\n",
              "      <td>8935235228351</td>\n",
              "      <td>Cây Cam Ngọt Của Tôi</td>\n",
              "      <td>2.9k</td>\n",
              "      <td>108.000 đ</td>\n",
              "      <td>José Mauro de Vasconcelos</td>\n",
              "      <td>Nguyễn Bích Lan, Tô Yến Ly</td>\n",
              "      <td>NaN</td>\n",
              "      <td>2020</td>\n",
              "      <td>Trending</td>\n",
              "      <td>Bìa Mềm</td>\n",
              "      <td>4.4/5 (0 đánh giá)</td>\n",
              "      <td>Văn Học</td>\n",
              "      <td>https://www.fahasa.com/cay-cam-ngot-cua-toi.html</td>\n",
              "      <td>244.0</td>\n",
              "    </tr>\n",
              "    <tr>\n",
              "      <th>4</th>\n",
              "      <td>8936213491613</td>\n",
              "      <td>Hà Thanh Hải Yến - Ngang Qua Ngõ Nhỏ Bình An</td>\n",
              "      <td>190</td>\n",
              "      <td>196.000 đ</td>\n",
              "      <td>Quất Tử Bất Toan</td>\n",
              "      <td>Lục Bích</td>\n",
              "      <td>Tiếng Việt</td>\n",
              "      <td>2024</td>\n",
              "      <td>Trending</td>\n",
              "      <td>Bìa Mềm</td>\n",
              "      <td>0.0/5 (0 đánh giá)</td>\n",
              "      <td>Văn Học</td>\n",
              "      <td>https://www.fahasa.com/ha-thanh-hai-yen-ngang-...</td>\n",
              "      <td>324.0</td>\n",
              "    </tr>\n",
              "  </tbody>\n",
              "</table>\n",
              "</div>"
            ],
            "text/plain": [
              "         Mã sách                                           Tên sách Lượt bán  \\\n",
              "0  8936214272648                                    Góc Nhỏ Có Nắng     10k+   \n",
              "1  8932000134749  Nếu Biết Trăm Năm Là Hữu Hạn - Ấn Bản Kỉ Niệm ...     1.9k   \n",
              "2  8934974182375               Người Đàn Ông Mang Tên OVE (Tái Bản)     2.5k   \n",
              "3  8935235228351                               Cây Cam Ngọt Của Tôi     2.9k   \n",
              "4  8936213491613       Hà Thanh Hải Yến - Ngang Qua Ngõ Nhỏ Bình An      190   \n",
              "\n",
              "         Giá                    Tác giả                  Người dịch  \\\n",
              "0   68.000 đ             Little Rainbow                         NaN   \n",
              "1  159.000 đ                 Phạm Lữ Ân                         NaN   \n",
              "2  160.000 đ            Fredrik Backman                   Hoàng Anh   \n",
              "3  108.000 đ  José Mauro de Vasconcelos  Nguyễn Bích Lan, Tô Yến Ly   \n",
              "4  196.000 đ           Quất Tử Bất Toan                    Lục Bích   \n",
              "\n",
              "     Ngôn ngữ Năm xuất bản  Xu hướng Hình thức             Ratings Thể loại  \\\n",
              "0  Tiếng Việt         2024  Trending   Bìa Mềm  5.0/5 (0 đánh giá)  Văn Học   \n",
              "1  Tiếng Việt         2024  Trending   Bìa Mềm  0.0/5 (0 đánh giá)  Văn Học   \n",
              "2  Tiếng Việt         2022  Trending   Bìa Mềm  0.0/5 (0 đánh giá)  Văn Học   \n",
              "3         NaN         2020  Trending   Bìa Mềm  4.4/5 (0 đánh giá)  Văn Học   \n",
              "4  Tiếng Việt         2024  Trending   Bìa Mềm  0.0/5 (0 đánh giá)  Văn Học   \n",
              "\n",
              "                                                Link  Số trang  \n",
              "0        https://www.fahasa.com/goc-nho-co-nang.html      64.0  \n",
              "1  https://www.fahasa.com/neu-biet-tram-nam-la-hu...     263.0  \n",
              "2  https://www.fahasa.com/nguoi-dan-ong-mang-ten-...     452.0  \n",
              "3   https://www.fahasa.com/cay-cam-ngot-cua-toi.html     244.0  \n",
              "4  https://www.fahasa.com/ha-thanh-hai-yen-ngang-...     324.0  "
            ]
          },
          "execution_count": 3,
          "metadata": {},
          "output_type": "execute_result"
        }
      ],
      "source": [
        "# raw_df = pd.read_csv('/content/drive/MyDrive/data/fahasa_books_data.csv')\n",
        "raw_df = pd.read_csv('./data/fahasa_books_data.csv')\n",
        "raw_df.head()"
      ]
    },
    {
      "cell_type": "markdown",
      "metadata": {
        "id": "W9aGXhrF-xXg"
      },
      "source": [
        "# **EDA - Tiền xử lí dữ liệu**"
      ]
    },
    {
      "cell_type": "markdown",
      "metadata": {
        "id": "8HBRUTO0-_Ej"
      },
      "source": [
        "## **Tổng quan dữ liệu**"
      ]
    },
    {
      "cell_type": "markdown",
      "metadata": {
        "id": "k1yfUh74_F4v"
      },
      "source": [
        "**Kích thước:**"
      ]
    },
    {
      "cell_type": "code",
      "execution_count": 4,
      "metadata": {
        "colab": {
          "base_uri": "https://localhost:8080/"
        },
        "id": "xfF9VGzm_J8a",
        "outputId": "796c3c71-e680-41be-b803-901b0fb62494"
      },
      "outputs": [
        {
          "data": {
            "text/plain": [
              "(2007, 14)"
            ]
          },
          "execution_count": 4,
          "metadata": {},
          "output_type": "execute_result"
        }
      ],
      "source": [
        "raw_df.shape"
      ]
    },
    {
      "cell_type": "markdown",
      "metadata": {
        "id": "JuutdRJl_PSn"
      },
      "source": [
        "**Kiểu dữ liệu:**"
      ]
    },
    {
      "cell_type": "code",
      "execution_count": 5,
      "metadata": {
        "colab": {
          "base_uri": "https://localhost:8080/"
        },
        "id": "evjK2ezt_RzM",
        "outputId": "726384b6-05e1-438b-a6ee-daeb0eb073d7"
      },
      "outputs": [
        {
          "name": "stdout",
          "output_type": "stream",
          "text": [
            "<class 'pandas.core.frame.DataFrame'>\n",
            "RangeIndex: 2007 entries, 0 to 2006\n",
            "Data columns (total 14 columns):\n",
            " #   Column        Non-Null Count  Dtype  \n",
            "---  ------        --------------  -----  \n",
            " 0   Mã sách       1955 non-null   object \n",
            " 1   Tên sách      2007 non-null   object \n",
            " 2   Lượt bán      1918 non-null   object \n",
            " 3   Giá           1910 non-null   object \n",
            " 4   Tác giả       1950 non-null   object \n",
            " 5   Người dịch    905 non-null    object \n",
            " 6   Ngôn ngữ      846 non-null    object \n",
            " 7   Năm xuất bản  1935 non-null   object \n",
            " 8   Xu hướng      2007 non-null   object \n",
            " 9   Hình thức     1949 non-null   object \n",
            " 10  Ratings       1955 non-null   object \n",
            " 11  Thể loại      2007 non-null   object \n",
            " 12  Link          2007 non-null   object \n",
            " 13  Số trang      1925 non-null   float64\n",
            "dtypes: float64(1), object(13)\n",
            "memory usage: 219.6+ KB\n"
          ]
        }
      ],
      "source": [
        "raw_df.info()"
      ]
    },
    {
      "cell_type": "markdown",
      "metadata": {
        "id": "V9p4cqNe-0d-"
      },
      "source": [
        "## **Trùng lặp**\n",
        "\n"
      ]
    },
    {
      "cell_type": "markdown",
      "metadata": {
        "id": "ZBgE8G-P_b4M"
      },
      "source": [
        "Mỗi sách tương ứng một ID, lọc mỗi ID chỉ giữ lại một."
      ]
    },
    {
      "cell_type": "code",
      "execution_count": 6,
      "metadata": {
        "colab": {
          "base_uri": "https://localhost:8080/"
        },
        "id": "Rvy9Fe5F_obG",
        "outputId": "a448e491-09c3-4184-9f5e-40003a2ed4fa"
      },
      "outputs": [
        {
          "data": {
            "text/plain": [
              "(0, (1767, 14))"
            ]
          },
          "execution_count": 6,
          "metadata": {},
          "output_type": "execute_result"
        }
      ],
      "source": [
        "raw_df = raw_df.drop_duplicates(subset='Mã sách', keep='first')\n",
        "raw_df = raw_df.reset_index(drop=True)\n",
        "raw_df.duplicated().sum(), raw_df.shape"
      ]
    },
    {
      "cell_type": "markdown",
      "metadata": {
        "id": "fPYmbONnAF58"
      },
      "source": [
        "## **Missing values**"
      ]
    },
    {
      "cell_type": "code",
      "execution_count": 7,
      "metadata": {
        "colab": {
          "base_uri": "https://localhost:8080/",
          "height": 523
        },
        "id": "aRN-07DVAKlb",
        "outputId": "493051e9-ff56-4511-ec56-75071fc6d51f"
      },
      "outputs": [
        {
          "data": {
            "text/plain": [
              "Mã sách           1\n",
              "Tên sách          0\n",
              "Lượt bán         32\n",
              "Giá              45\n",
              "Tác giả           6\n",
              "Người dịch      949\n",
              "Ngôn ngữ        996\n",
              "Năm xuất bản     20\n",
              "Xu hướng          0\n",
              "Hình thức         7\n",
              "Ratings           1\n",
              "Thể loại          0\n",
              "Link              0\n",
              "Số trang         28\n",
              "dtype: int64"
            ]
          },
          "execution_count": 7,
          "metadata": {},
          "output_type": "execute_result"
        }
      ],
      "source": [
        "raw_df.isna().sum()"
      ]
    },
    {
      "cell_type": "markdown",
      "metadata": {
        "id": "eBdv8SAuARFd"
      },
      "source": [
        "- `Mã sách`: xoá đối với sample có ID bị thiếu"
      ]
    },
    {
      "cell_type": "code",
      "execution_count": 8,
      "metadata": {
        "colab": {
          "base_uri": "https://localhost:8080/",
          "height": 523
        },
        "id": "MkBGsehKAQk5",
        "outputId": "a2935901-d491-4898-a2eb-97a5b562faf3"
      },
      "outputs": [
        {
          "data": {
            "text/plain": [
              "Mã sách           0\n",
              "Tên sách          0\n",
              "Lượt bán         31\n",
              "Giá              44\n",
              "Tác giả           5\n",
              "Người dịch      948\n",
              "Ngôn ngữ        995\n",
              "Năm xuất bản     19\n",
              "Xu hướng          0\n",
              "Hình thức         6\n",
              "Ratings           0\n",
              "Thể loại          0\n",
              "Link              0\n",
              "Số trang         27\n",
              "dtype: int64"
            ]
          },
          "execution_count": 8,
          "metadata": {},
          "output_type": "execute_result"
        }
      ],
      "source": [
        "raw_df = raw_df.dropna(subset=['Mã sách'])\n",
        "raw_df.isna().sum()"
      ]
    },
    {
      "cell_type": "markdown",
      "metadata": {
        "id": "6KQwDCQvA2L8"
      },
      "source": [
        "- `Lượt bán`: Điền 0 đối với các sample bị thiếu giá trị ở trường này.\n",
        "- `Giá`: Không thể điền tuỳ tiện được vì khả năng cao sẽ ảnh hưởng đến kết quả phân tích và số giá trị thiếu ít nên sẽ loại bỏ.\n",
        "- `Tác giả`: Chỉ thiếu 5 giá trị nên loại bỏ\n",
        "- `Năm xuất bản`: Tương tự, loại bỏ"
      ]
    },
    {
      "cell_type": "code",
      "execution_count": 9,
      "metadata": {
        "colab": {
          "base_uri": "https://localhost:8080/",
          "height": 523
        },
        "id": "SYHK4aNwAx5z",
        "outputId": "169df2ac-1e4b-4284-fcf2-5c5cf2b95134"
      },
      "outputs": [
        {
          "data": {
            "text/plain": [
              "Mã sách           0\n",
              "Tên sách          0\n",
              "Lượt bán          0\n",
              "Giá               0\n",
              "Tác giả           0\n",
              "Người dịch      891\n",
              "Ngôn ngữ        956\n",
              "Năm xuất bản      0\n",
              "Xu hướng          0\n",
              "Hình thức         6\n",
              "Ratings           0\n",
              "Thể loại          0\n",
              "Link              0\n",
              "Số trang         19\n",
              "dtype: int64"
            ]
          },
          "execution_count": 9,
          "metadata": {},
          "output_type": "execute_result"
        }
      ],
      "source": [
        "raw_df.loc[:, 'Lượt bán'] = raw_df['Lượt bán'].fillna(0)\n",
        "raw_df.dropna(subset=['Giá', 'Tác giả', 'Năm xuất bản'], inplace=True)\n",
        "raw_df.isna().sum()"
      ]
    },
    {
      "cell_type": "markdown",
      "metadata": {
        "id": "oN8vcCe8DMpa"
      },
      "source": [
        "Khảo sát các giá trị bị thiếu ở `Số trang`, `Người dịch`, `Ngôn ngữ`, `Hình thức`"
      ]
    },
    {
      "cell_type": "code",
      "execution_count": 10,
      "metadata": {
        "colab": {
          "base_uri": "https://localhost:8080/",
          "height": 922
        },
        "id": "IwBQgFOKDaey",
        "outputId": "b727a39e-6312-42f7-ebd1-c6cba3aecb52"
      },
      "outputs": [
        {
          "name": "stdout",
          "output_type": "stream",
          "text": [
            "Số trang:\n"
          ]
        },
        {
          "data": {
            "text/html": [
              "<div>\n",
              "<style scoped>\n",
              "    .dataframe tbody tr th:only-of-type {\n",
              "        vertical-align: middle;\n",
              "    }\n",
              "\n",
              "    .dataframe tbody tr th {\n",
              "        vertical-align: top;\n",
              "    }\n",
              "\n",
              "    .dataframe thead th {\n",
              "        text-align: right;\n",
              "    }\n",
              "</style>\n",
              "<table border=\"1\" class=\"dataframe\">\n",
              "  <thead>\n",
              "    <tr style=\"text-align: right;\">\n",
              "      <th></th>\n",
              "      <th>Mã sách</th>\n",
              "      <th>Tên sách</th>\n",
              "      <th>Lượt bán</th>\n",
              "      <th>Giá</th>\n",
              "      <th>Tác giả</th>\n",
              "      <th>Người dịch</th>\n",
              "      <th>Ngôn ngữ</th>\n",
              "      <th>Năm xuất bản</th>\n",
              "      <th>Xu hướng</th>\n",
              "      <th>Hình thức</th>\n",
              "      <th>Ratings</th>\n",
              "      <th>Thể loại</th>\n",
              "      <th>Link</th>\n",
              "      <th>Số trang</th>\n",
              "    </tr>\n",
              "  </thead>\n",
              "  <tbody>\n",
              "    <tr>\n",
              "      <th>1048</th>\n",
              "      <td>8935086858196-qt</td>\n",
              "      <td>Người Đàn Bà Trong Tôi - The Woman In Me - Tặn...</td>\n",
              "      <td>133</td>\n",
              "      <td>188.000 đ</td>\n",
              "      <td>Britney Spears</td>\n",
              "      <td>Yên Du</td>\n",
              "      <td>Tiếng Việt</td>\n",
              "      <td>2024</td>\n",
              "      <td>No</td>\n",
              "      <td>Bìa Mềm</td>\n",
              "      <td>0.0/5 (0 đánh giá)</td>\n",
              "      <td>Tiểu Sử Hồi Ký</td>\n",
              "      <td>https://www.fahasa.com/nguoi-dan-ba-trong-toi-...</td>\n",
              "      <td>NaN</td>\n",
              "    </tr>\n",
              "    <tr>\n",
              "      <th>1418</th>\n",
              "      <td>8935088554515</td>\n",
              "      <td>1000 Vấn Đề Về Mật Tông</td>\n",
              "      <td>12</td>\n",
              "      <td>799.000 đ</td>\n",
              "      <td>Vũ Thỏa, Nguyên Ninh Công Bố</td>\n",
              "      <td>NaN</td>\n",
              "      <td>NaN</td>\n",
              "      <td>2019</td>\n",
              "      <td>No</td>\n",
              "      <td>Bìa Cứng</td>\n",
              "      <td>0.0/5 (0 đánh giá)</td>\n",
              "      <td>Phong Thủy - Kinh Dịch</td>\n",
              "      <td>https://www.fahasa.com/1000-van-de-ve-mat-tong...</td>\n",
              "      <td>NaN</td>\n",
              "    </tr>\n",
              "    <tr>\n",
              "      <th>1550</th>\n",
              "      <td>3300000012575</td>\n",
              "      <td>Bộ Sách Cắt May Căn Bản + Kỹ Thuật Cắt May Căn...</td>\n",
              "      <td>11</td>\n",
              "      <td>429.000 đ</td>\n",
              "      <td>Nhiều Tác Giả</td>\n",
              "      <td>NaN</td>\n",
              "      <td>Tiếng Việt</td>\n",
              "      <td>2021</td>\n",
              "      <td>No</td>\n",
              "      <td>Bìa Mềm</td>\n",
              "      <td>0.0/5 (0 đánh giá)</td>\n",
              "      <td>Âm Nhạc - Mỹ Thuật - Thời Trang</td>\n",
              "      <td>https://www.fahasa.com/bo-sach-cat-may-can-ban...</td>\n",
              "      <td>NaN</td>\n",
              "    </tr>\n",
              "  </tbody>\n",
              "</table>\n",
              "</div>"
            ],
            "text/plain": [
              "               Mã sách                                           Tên sách  \\\n",
              "1048  8935086858196-qt  Người Đàn Bà Trong Tôi - The Woman In Me - Tặn...   \n",
              "1418     8935088554515                            1000 Vấn Đề Về Mật Tông   \n",
              "1550     3300000012575  Bộ Sách Cắt May Căn Bản + Kỹ Thuật Cắt May Căn...   \n",
              "\n",
              "     Lượt bán        Giá                       Tác giả Người dịch    Ngôn ngữ  \\\n",
              "1048      133  188.000 đ                Britney Spears     Yên Du  Tiếng Việt   \n",
              "1418       12  799.000 đ  Vũ Thỏa, Nguyên Ninh Công Bố        NaN         NaN   \n",
              "1550       11  429.000 đ                 Nhiều Tác Giả        NaN  Tiếng Việt   \n",
              "\n",
              "     Năm xuất bản Xu hướng Hình thức             Ratings  \\\n",
              "1048         2024       No   Bìa Mềm  0.0/5 (0 đánh giá)   \n",
              "1418         2019       No  Bìa Cứng  0.0/5 (0 đánh giá)   \n",
              "1550         2021       No   Bìa Mềm  0.0/5 (0 đánh giá)   \n",
              "\n",
              "                             Thể loại  \\\n",
              "1048                   Tiểu Sử Hồi Ký   \n",
              "1418           Phong Thủy - Kinh Dịch   \n",
              "1550  Âm Nhạc - Mỹ Thuật - Thời Trang   \n",
              "\n",
              "                                                   Link  Số trang  \n",
              "1048  https://www.fahasa.com/nguoi-dan-ba-trong-toi-...       NaN  \n",
              "1418  https://www.fahasa.com/1000-van-de-ve-mat-tong...       NaN  \n",
              "1550  https://www.fahasa.com/bo-sach-cat-may-can-ban...       NaN  "
            ]
          },
          "metadata": {},
          "output_type": "display_data"
        },
        {
          "name": "stdout",
          "output_type": "stream",
          "text": [
            "Người dịch:\n"
          ]
        },
        {
          "data": {
            "text/html": [
              "<div>\n",
              "<style scoped>\n",
              "    .dataframe tbody tr th:only-of-type {\n",
              "        vertical-align: middle;\n",
              "    }\n",
              "\n",
              "    .dataframe tbody tr th {\n",
              "        vertical-align: top;\n",
              "    }\n",
              "\n",
              "    .dataframe thead th {\n",
              "        text-align: right;\n",
              "    }\n",
              "</style>\n",
              "<table border=\"1\" class=\"dataframe\">\n",
              "  <thead>\n",
              "    <tr style=\"text-align: right;\">\n",
              "      <th></th>\n",
              "      <th>Mã sách</th>\n",
              "      <th>Tên sách</th>\n",
              "      <th>Lượt bán</th>\n",
              "      <th>Giá</th>\n",
              "      <th>Tác giả</th>\n",
              "      <th>Người dịch</th>\n",
              "      <th>Ngôn ngữ</th>\n",
              "      <th>Năm xuất bản</th>\n",
              "      <th>Xu hướng</th>\n",
              "      <th>Hình thức</th>\n",
              "      <th>Ratings</th>\n",
              "      <th>Thể loại</th>\n",
              "      <th>Link</th>\n",
              "      <th>Số trang</th>\n",
              "    </tr>\n",
              "  </thead>\n",
              "  <tbody>\n",
              "    <tr>\n",
              "      <th>708</th>\n",
              "      <td>8936107814214</td>\n",
              "      <td>Lịch Sử Văn Hóa Biển Việt Nam</td>\n",
              "      <td>8</td>\n",
              "      <td>468.000 đ</td>\n",
              "      <td>Nguyễn Chí Bền</td>\n",
              "      <td>NaN</td>\n",
              "      <td>Tiếng Việt</td>\n",
              "      <td>2024</td>\n",
              "      <td>No</td>\n",
              "      <td>Bìa Mềm</td>\n",
              "      <td>0.0/5 (0 đánh giá)</td>\n",
              "      <td>Lịch Sử - Địa Lý - Tôn Giáo</td>\n",
              "      <td>https://www.fahasa.com/lich-su-van-hoa-bien-vi...</td>\n",
              "      <td>452.0</td>\n",
              "    </tr>\n",
              "    <tr>\n",
              "      <th>652</th>\n",
              "      <td>8935246922736</td>\n",
              "      <td>Rich Habits - Thói Quen Thành Công Của Những T...</td>\n",
              "      <td>35</td>\n",
              "      <td>158.000 đ</td>\n",
              "      <td>Thomas C Corley</td>\n",
              "      <td>NaN</td>\n",
              "      <td>NaN</td>\n",
              "      <td>2022</td>\n",
              "      <td>No</td>\n",
              "      <td>Bìa Mềm</td>\n",
              "      <td>4.6/5 (0 đánh giá)</td>\n",
              "      <td>Kinh Tế</td>\n",
              "      <td>https://www.fahasa.com/rich-habits-thoi-quen-t...</td>\n",
              "      <td>291.0</td>\n",
              "    </tr>\n",
              "    <tr>\n",
              "      <th>1039</th>\n",
              "      <td>9786044833774</td>\n",
              "      <td>Phạm Xuân Ẩn - Tên Người Như Cuộc Đời</td>\n",
              "      <td>38</td>\n",
              "      <td>120.000 đ</td>\n",
              "      <td>Nguyễn Thị Ngọc Hải</td>\n",
              "      <td>NaN</td>\n",
              "      <td>NaN</td>\n",
              "      <td>2024</td>\n",
              "      <td>No</td>\n",
              "      <td>Bìa Mềm</td>\n",
              "      <td>0.0/5 (0 đánh giá)</td>\n",
              "      <td>Tiểu Sử Hồi Ký</td>\n",
              "      <td>https://www.fahasa.com/pham-xuan-an-ten-nguoi-...</td>\n",
              "      <td>320.0</td>\n",
              "    </tr>\n",
              "  </tbody>\n",
              "</table>\n",
              "</div>"
            ],
            "text/plain": [
              "            Mã sách                                           Tên sách  \\\n",
              "708   8936107814214                      Lịch Sử Văn Hóa Biển Việt Nam   \n",
              "652   8935246922736  Rich Habits - Thói Quen Thành Công Của Những T...   \n",
              "1039  9786044833774              Phạm Xuân Ẩn - Tên Người Như Cuộc Đời   \n",
              "\n",
              "     Lượt bán        Giá              Tác giả Người dịch    Ngôn ngữ  \\\n",
              "708         8  468.000 đ       Nguyễn Chí Bền        NaN  Tiếng Việt   \n",
              "652        35  158.000 đ      Thomas C Corley        NaN         NaN   \n",
              "1039       38  120.000 đ  Nguyễn Thị Ngọc Hải        NaN         NaN   \n",
              "\n",
              "     Năm xuất bản Xu hướng Hình thức             Ratings  \\\n",
              "708          2024       No   Bìa Mềm  0.0/5 (0 đánh giá)   \n",
              "652          2022       No   Bìa Mềm  4.6/5 (0 đánh giá)   \n",
              "1039         2024       No   Bìa Mềm  0.0/5 (0 đánh giá)   \n",
              "\n",
              "                         Thể loại  \\\n",
              "708   Lịch Sử - Địa Lý - Tôn Giáo   \n",
              "652                       Kinh Tế   \n",
              "1039               Tiểu Sử Hồi Ký   \n",
              "\n",
              "                                                   Link  Số trang  \n",
              "708   https://www.fahasa.com/lich-su-van-hoa-bien-vi...     452.0  \n",
              "652   https://www.fahasa.com/rich-habits-thoi-quen-t...     291.0  \n",
              "1039  https://www.fahasa.com/pham-xuan-an-ten-nguoi-...     320.0  "
            ]
          },
          "metadata": {},
          "output_type": "display_data"
        },
        {
          "name": "stdout",
          "output_type": "stream",
          "text": [
            "Ngôn ngữ:\n"
          ]
        },
        {
          "data": {
            "text/html": [
              "<div>\n",
              "<style scoped>\n",
              "    .dataframe tbody tr th:only-of-type {\n",
              "        vertical-align: middle;\n",
              "    }\n",
              "\n",
              "    .dataframe tbody tr th {\n",
              "        vertical-align: top;\n",
              "    }\n",
              "\n",
              "    .dataframe thead th {\n",
              "        text-align: right;\n",
              "    }\n",
              "</style>\n",
              "<table border=\"1\" class=\"dataframe\">\n",
              "  <thead>\n",
              "    <tr style=\"text-align: right;\">\n",
              "      <th></th>\n",
              "      <th>Mã sách</th>\n",
              "      <th>Tên sách</th>\n",
              "      <th>Lượt bán</th>\n",
              "      <th>Giá</th>\n",
              "      <th>Tác giả</th>\n",
              "      <th>Người dịch</th>\n",
              "      <th>Ngôn ngữ</th>\n",
              "      <th>Năm xuất bản</th>\n",
              "      <th>Xu hướng</th>\n",
              "      <th>Hình thức</th>\n",
              "      <th>Ratings</th>\n",
              "      <th>Thể loại</th>\n",
              "      <th>Link</th>\n",
              "      <th>Số trang</th>\n",
              "    </tr>\n",
              "  </thead>\n",
              "  <tbody>\n",
              "    <tr>\n",
              "      <th>1377</th>\n",
              "      <td>8935236426138</td>\n",
              "      <td>La Bàn Phong Thủy Toàn Thư (Bìa Cứng)</td>\n",
              "      <td>18</td>\n",
              "      <td>265.000 đ</td>\n",
              "      <td>Dương Quân Tùng, Ngô Bạch</td>\n",
              "      <td>NaN</td>\n",
              "      <td>NaN</td>\n",
              "      <td>2022</td>\n",
              "      <td>No</td>\n",
              "      <td>Bìa Cứng</td>\n",
              "      <td>0.0/5 (0 đánh giá)</td>\n",
              "      <td>Phong Thủy - Kinh Dịch</td>\n",
              "      <td>https://www.fahasa.com/la-ban-phong-thuy-toan-...</td>\n",
              "      <td>408.0</td>\n",
              "    </tr>\n",
              "    <tr>\n",
              "      <th>219</th>\n",
              "      <td>9786040422989</td>\n",
              "      <td>Hướng Dẫn Ôn Thi Tốt Nghiệp Trung Học Phổ Thôn...</td>\n",
              "      <td>43</td>\n",
              "      <td>87.000 đ</td>\n",
              "      <td>Nhiều Tác Giả</td>\n",
              "      <td>NaN</td>\n",
              "      <td>NaN</td>\n",
              "      <td>2024</td>\n",
              "      <td>No</td>\n",
              "      <td>Bìa Mềm</td>\n",
              "      <td>0.0/5 (0 đánh giá)</td>\n",
              "      <td>Giáo Khoa - Tham Khảo</td>\n",
              "      <td>https://www.fahasa.com/hd-on-thi-tot-nghiep-th...</td>\n",
              "      <td>212.0</td>\n",
              "    </tr>\n",
              "    <tr>\n",
              "      <th>603</th>\n",
              "      <td>combo-9786043654370-9786043450293</td>\n",
              "      <td>Combo Sách Biến Mọi Thứ Thành Tiền - Make Mone...</td>\n",
              "      <td>361</td>\n",
              "      <td>336.000 đ</td>\n",
              "      <td>Nguyễn Anh Dũng</td>\n",
              "      <td>NaN</td>\n",
              "      <td>NaN</td>\n",
              "      <td>2023</td>\n",
              "      <td>No</td>\n",
              "      <td>Bìa Mềm</td>\n",
              "      <td>0.0/5 (0 đánh giá)</td>\n",
              "      <td>Kinh Tế</td>\n",
              "      <td>https://www.fahasa.com/combo-sach-bien-moi-thu...</td>\n",
              "      <td>545.0</td>\n",
              "    </tr>\n",
              "  </tbody>\n",
              "</table>\n",
              "</div>"
            ],
            "text/plain": [
              "                                Mã sách  \\\n",
              "1377                      8935236426138   \n",
              "219                       9786040422989   \n",
              "603   combo-9786043654370-9786043450293   \n",
              "\n",
              "                                               Tên sách Lượt bán        Giá  \\\n",
              "1377              La Bàn Phong Thủy Toàn Thư (Bìa Cứng)       18  265.000 đ   \n",
              "219   Hướng Dẫn Ôn Thi Tốt Nghiệp Trung Học Phổ Thôn...       43   87.000 đ   \n",
              "603   Combo Sách Biến Mọi Thứ Thành Tiền - Make Mone...      361  336.000 đ   \n",
              "\n",
              "                        Tác giả Người dịch Ngôn ngữ Năm xuất bản Xu hướng  \\\n",
              "1377  Dương Quân Tùng, Ngô Bạch        NaN      NaN         2022       No   \n",
              "219               Nhiều Tác Giả        NaN      NaN         2024       No   \n",
              "603             Nguyễn Anh Dũng        NaN      NaN         2023       No   \n",
              "\n",
              "     Hình thức             Ratings                Thể loại  \\\n",
              "1377  Bìa Cứng  0.0/5 (0 đánh giá)  Phong Thủy - Kinh Dịch   \n",
              "219    Bìa Mềm  0.0/5 (0 đánh giá)   Giáo Khoa - Tham Khảo   \n",
              "603    Bìa Mềm  0.0/5 (0 đánh giá)                 Kinh Tế   \n",
              "\n",
              "                                                   Link  Số trang  \n",
              "1377  https://www.fahasa.com/la-ban-phong-thuy-toan-...     408.0  \n",
              "219   https://www.fahasa.com/hd-on-thi-tot-nghiep-th...     212.0  \n",
              "603   https://www.fahasa.com/combo-sach-bien-moi-thu...     545.0  "
            ]
          },
          "metadata": {},
          "output_type": "display_data"
        },
        {
          "name": "stdout",
          "output_type": "stream",
          "text": [
            "Hình thức:\n"
          ]
        },
        {
          "data": {
            "text/html": [
              "<div>\n",
              "<style scoped>\n",
              "    .dataframe tbody tr th:only-of-type {\n",
              "        vertical-align: middle;\n",
              "    }\n",
              "\n",
              "    .dataframe tbody tr th {\n",
              "        vertical-align: top;\n",
              "    }\n",
              "\n",
              "    .dataframe thead th {\n",
              "        text-align: right;\n",
              "    }\n",
              "</style>\n",
              "<table border=\"1\" class=\"dataframe\">\n",
              "  <thead>\n",
              "    <tr style=\"text-align: right;\">\n",
              "      <th></th>\n",
              "      <th>Mã sách</th>\n",
              "      <th>Tên sách</th>\n",
              "      <th>Lượt bán</th>\n",
              "      <th>Giá</th>\n",
              "      <th>Tác giả</th>\n",
              "      <th>Người dịch</th>\n",
              "      <th>Ngôn ngữ</th>\n",
              "      <th>Năm xuất bản</th>\n",
              "      <th>Xu hướng</th>\n",
              "      <th>Hình thức</th>\n",
              "      <th>Ratings</th>\n",
              "      <th>Thể loại</th>\n",
              "      <th>Link</th>\n",
              "      <th>Số trang</th>\n",
              "    </tr>\n",
              "  </thead>\n",
              "  <tbody>\n",
              "    <tr>\n",
              "      <th>168</th>\n",
              "      <td>8935212370325</td>\n",
              "      <td>Big Book Of Wild Animals - Cuốn Sách Khổng Lồ ...</td>\n",
              "      <td>24</td>\n",
              "      <td>168.000 đ</td>\n",
              "      <td>Khánh Vân, Tuyết Hoàng</td>\n",
              "      <td>NaN</td>\n",
              "      <td>NaN</td>\n",
              "      <td>2024</td>\n",
              "      <td>No</td>\n",
              "      <td>NaN</td>\n",
              "      <td>0.0/5 (0 đánh giá)</td>\n",
              "      <td>Thiếu Nhi</td>\n",
              "      <td>https://www.fahasa.com/big-book-of-wild-animal...</td>\n",
              "      <td>22.0</td>\n",
              "    </tr>\n",
              "    <tr>\n",
              "      <th>84</th>\n",
              "      <td>8935280916883</td>\n",
              "      <td>Tố Thư</td>\n",
              "      <td>154</td>\n",
              "      <td>400.000 đ</td>\n",
              "      <td>Hoàng Thạch Công</td>\n",
              "      <td>Tâm An</td>\n",
              "      <td>Tiếng Việt</td>\n",
              "      <td>2024</td>\n",
              "      <td>No</td>\n",
              "      <td>NaN</td>\n",
              "      <td>0.0/5 (0 đánh giá)</td>\n",
              "      <td>Văn Học</td>\n",
              "      <td>https://www.fahasa.com/to-thu.html</td>\n",
              "      <td>476.0</td>\n",
              "    </tr>\n",
              "    <tr>\n",
              "      <th>688</th>\n",
              "      <td>9788941261209</td>\n",
              "      <td>Kinh Thánh - Bìa Da</td>\n",
              "      <td>64</td>\n",
              "      <td>650.000 đ</td>\n",
              "      <td>United Bible Societies</td>\n",
              "      <td>NaN</td>\n",
              "      <td>NaN</td>\n",
              "      <td>2023</td>\n",
              "      <td>No</td>\n",
              "      <td>NaN</td>\n",
              "      <td>0.0/5 (0 đánh giá)</td>\n",
              "      <td>Lịch Sử - Địa Lý - Tôn Giáo</td>\n",
              "      <td>https://www.fahasa.com/kinh-thanh-bia-da.html</td>\n",
              "      <td>1669.0</td>\n",
              "    </tr>\n",
              "  </tbody>\n",
              "</table>\n",
              "</div>"
            ],
            "text/plain": [
              "           Mã sách                                           Tên sách  \\\n",
              "168  8935212370325  Big Book Of Wild Animals - Cuốn Sách Khổng Lồ ...   \n",
              "84   8935280916883                                             Tố Thư   \n",
              "688  9788941261209                                Kinh Thánh - Bìa Da   \n",
              "\n",
              "    Lượt bán        Giá                 Tác giả Người dịch    Ngôn ngữ  \\\n",
              "168       24  168.000 đ  Khánh Vân, Tuyết Hoàng        NaN         NaN   \n",
              "84       154  400.000 đ        Hoàng Thạch Công     Tâm An  Tiếng Việt   \n",
              "688       64  650.000 đ  United Bible Societies        NaN         NaN   \n",
              "\n",
              "    Năm xuất bản Xu hướng Hình thức             Ratings  \\\n",
              "168         2024       No       NaN  0.0/5 (0 đánh giá)   \n",
              "84          2024       No       NaN  0.0/5 (0 đánh giá)   \n",
              "688         2023       No       NaN  0.0/5 (0 đánh giá)   \n",
              "\n",
              "                        Thể loại  \\\n",
              "168                    Thiếu Nhi   \n",
              "84                       Văn Học   \n",
              "688  Lịch Sử - Địa Lý - Tôn Giáo   \n",
              "\n",
              "                                                  Link  Số trang  \n",
              "168  https://www.fahasa.com/big-book-of-wild-animal...      22.0  \n",
              "84                  https://www.fahasa.com/to-thu.html     476.0  \n",
              "688      https://www.fahasa.com/kinh-thanh-bia-da.html    1669.0  "
            ]
          },
          "metadata": {},
          "output_type": "display_data"
        }
      ],
      "source": [
        "print(\"Số trang:\")\n",
        "display(raw_df[raw_df['Số trang'].isna()].sample(3))\n",
        "\n",
        "print(\"Người dịch:\")\n",
        "display(raw_df[raw_df['Người dịch'].isna()].sample(3))\n",
        "\n",
        "print(\"Ngôn ngữ:\")\n",
        "display(raw_df[raw_df['Ngôn ngữ'].isna()].sample(3))\n",
        "\n",
        "print(\"Hình thức:\")\n",
        "display(raw_df[raw_df['Hình thức'].isna()].sample(3))"
      ]
    },
    {
      "cell_type": "markdown",
      "metadata": {
        "id": "KE-vyolbEgXY"
      },
      "source": [
        "- `Số trang` thiếu khá ít có thể do nhập liệu của Fahasa hoặc do chúng ta cào. Nên có thể điền là -1 cho biết chưa có dữ liệu cho trường này.\n",
        "- `Người dịch` thiếu, ta có thể giả định từ khảo sát đã xem xét rằng là do đây là sách tiếng Việt thuần nên không có người dịch. Nên chúng ta sẽ điền là giá trị của `Tác giả` để đồng bộ các sample này.\n",
        "- Tuy nhiên trường `Ngôn ngữ` lại thiếu rất nhiều nên sẽ phải xử lí trường này trước khi xử lí `Người dịch`. Theo khảo sát thì phần nhiều đây là Từ điển và Giáo trình nên chúng ta sẽ đi kiểm chứng điều này để xử lí thêm sau."
      ]
    },
    {
      "cell_type": "code",
      "execution_count": 11,
      "metadata": {
        "colab": {
          "base_uri": "https://localhost:8080/",
          "height": 806
        },
        "id": "GAAlpyagFMoZ",
        "outputId": "c1f1fe38-0bca-4e9e-d1d9-2d69995d6d03"
      },
      "outputs": [
        {
          "data": {
            "text/plain": [
              "Thể loại\n",
              "Từ Điển                            76\n",
              "Phong Thủy - Kinh Dịch             69\n",
              "Chính Trị - Pháp Lý - Triết Học    66\n",
              "Thiếu Nhi                          62\n",
              "Thể Dục Thể Thao - Giải Trí        60\n",
              "Nữ Công Gia Chánh                  60\n",
              "Sách Học Ngoại Ngữ                 57\n",
              "Khoa Học Kỹ Thuật                  55\n",
              "Văn Hóa - Nghệ Thuật - Du Lịch     54\n",
              "Nuôi Dạy Con                       52\n",
              "Tiểu Sử Hồi Ký                     51\n",
              "Âm Nhạc - Mỹ Thuật - Thời Trang    50\n",
              "Kinh Tế                            49\n",
              "Tâm Lý - Kỹ Năng Sống              48\n",
              "Lịch Sử - Địa Lý - Tôn Giáo        41\n",
              "Giáo Khoa - Tham Khảo              39\n",
              "Văn Học                            30\n",
              "Giáo Trình                         17\n",
              "Báo - Tạp Chí                      16\n",
              "Làm Vườn - Thú Nuôi                 2\n",
              "Đam Mỹ                              1\n",
              "Manga - Comic                       1\n",
              "Name: count, dtype: int64"
            ]
          },
          "execution_count": 11,
          "metadata": {},
          "output_type": "execute_result"
        }
      ],
      "source": [
        "raw_df[raw_df['Ngôn ngữ'].isna()]['Thể loại'].value_counts()"
      ]
    },
    {
      "cell_type": "markdown",
      "metadata": {
        "id": "5kzAhbZ7GFo1"
      },
      "source": [
        "Ta thấy các giá trị của trường `Thể loại` đều là Tiếng Việt nên có nghĩa là `Ngôn ngữ` sẽ là Tiếng Việt."
      ]
    },
    {
      "cell_type": "code",
      "execution_count": 12,
      "metadata": {
        "colab": {
          "base_uri": "https://localhost:8080/",
          "height": 523
        },
        "id": "8xeLYixWGDp1",
        "outputId": "b94140e8-a161-43a2-e964-a99b4beb949a"
      },
      "outputs": [
        {
          "data": {
            "text/plain": [
              "Mã sách           0\n",
              "Tên sách          0\n",
              "Lượt bán          0\n",
              "Giá               0\n",
              "Tác giả           0\n",
              "Người dịch      891\n",
              "Ngôn ngữ          0\n",
              "Năm xuất bản      0\n",
              "Xu hướng          0\n",
              "Hình thức         6\n",
              "Ratings           0\n",
              "Thể loại          0\n",
              "Link              0\n",
              "Số trang         19\n",
              "dtype: int64"
            ]
          },
          "execution_count": 12,
          "metadata": {},
          "output_type": "execute_result"
        }
      ],
      "source": [
        "raw_df['Ngôn ngữ'] = raw_df['Ngôn ngữ'].fillna('Tiếng Việt')\n",
        "raw_df.isna().sum()"
      ]
    },
    {
      "cell_type": "markdown",
      "metadata": {
        "id": "P3w4ERQpGv9I"
      },
      "source": [
        "Kiểm tra lại trường `Người dịch` xem có phải các giá trị thiếu ở đây đều có giá trị ở `Ngôn ngữ` là tiếng Việt hay không?"
      ]
    },
    {
      "cell_type": "code",
      "execution_count": 13,
      "metadata": {
        "colab": {
          "base_uri": "https://localhost:8080/",
          "height": 272
        },
        "id": "i9C9-BkIGvhw",
        "outputId": "cf170604-628f-48bc-839d-9a64123be06d"
      },
      "outputs": [
        {
          "data": {
            "text/plain": [
              "Ngôn ngữ\n",
              "Tiếng Việt              876\n",
              "Tiếng Anh                 6\n",
              "Tiếng Trung               4\n",
              "Song Ngữ Anh - Việt       3\n",
              "Song Ngữ Nhật - Việt      2\n",
              "Name: count, dtype: int64"
            ]
          },
          "execution_count": 13,
          "metadata": {},
          "output_type": "execute_result"
        }
      ],
      "source": [
        "raw_df[raw_df['Người dịch'].isna()]['Ngôn ngữ'].value_counts()"
      ]
    },
    {
      "cell_type": "markdown",
      "metadata": {
        "id": "SpeprriRHamQ"
      },
      "source": [
        "Ta thấy phần lớn là giống với chúng ta giả thiết, duy chỉ có 6 sample có giá trị `Ngôn ngữ` là Tiếng Anh và Tiếng Trung. Xem xét giá trị lượt bán của chúng, nếu lượt bán bằng 0 nghĩa là không quan trọng lắm nên sẽ bỏ nó. Nếu có só lượt bán ra lớn, chúng ta sẽ"
      ]
    },
    {
      "cell_type": "code",
      "execution_count": 14,
      "metadata": {
        "colab": {
          "base_uri": "https://localhost:8080/",
          "height": 571
        },
        "id": "fpKk-5lQIA-f",
        "outputId": "7aa8dc32-fe55-4192-e2d8-ef7fbd0c514f"
      },
      "outputs": [
        {
          "data": {
            "text/html": [
              "<div>\n",
              "<style scoped>\n",
              "    .dataframe tbody tr th:only-of-type {\n",
              "        vertical-align: middle;\n",
              "    }\n",
              "\n",
              "    .dataframe tbody tr th {\n",
              "        vertical-align: top;\n",
              "    }\n",
              "\n",
              "    .dataframe thead th {\n",
              "        text-align: right;\n",
              "    }\n",
              "</style>\n",
              "<table border=\"1\" class=\"dataframe\">\n",
              "  <thead>\n",
              "    <tr style=\"text-align: right;\">\n",
              "      <th></th>\n",
              "      <th>Mã sách</th>\n",
              "      <th>Tên sách</th>\n",
              "      <th>Lượt bán</th>\n",
              "      <th>Giá</th>\n",
              "      <th>Tác giả</th>\n",
              "      <th>Người dịch</th>\n",
              "      <th>Ngôn ngữ</th>\n",
              "      <th>Năm xuất bản</th>\n",
              "      <th>Xu hướng</th>\n",
              "      <th>Hình thức</th>\n",
              "      <th>Ratings</th>\n",
              "      <th>Thể loại</th>\n",
              "      <th>Link</th>\n",
              "      <th>Số trang</th>\n",
              "    </tr>\n",
              "  </thead>\n",
              "  <tbody>\n",
              "    <tr>\n",
              "      <th>245</th>\n",
              "      <td>9786043091199</td>\n",
              "      <td>Ôn Tập Nhanh Ngữ Pháp Tiếng Anh</td>\n",
              "      <td>205</td>\n",
              "      <td>20.000 đ</td>\n",
              "      <td>Nguyễn Văn Hòa</td>\n",
              "      <td>NaN</td>\n",
              "      <td>Tiếng Anh</td>\n",
              "      <td>2021</td>\n",
              "      <td>No</td>\n",
              "      <td>Bìa Mềm</td>\n",
              "      <td>0.0/5 (0 đánh giá)</td>\n",
              "      <td>Giáo Khoa - Tham Khảo</td>\n",
              "      <td>https://www.fahasa.com/on-tap-nhanh-ngu-phap-t...</td>\n",
              "      <td>1.0</td>\n",
              "    </tr>\n",
              "    <tr>\n",
              "      <th>480</th>\n",
              "      <td>9786043775679</td>\n",
              "      <td>Giáo Trình Chuẩn HSK 2 - Bài Học</td>\n",
              "      <td>3.1k</td>\n",
              "      <td>198.000 đ</td>\n",
              "      <td>Khương Lệ Bình</td>\n",
              "      <td>NaN</td>\n",
              "      <td>Tiếng Trung</td>\n",
              "      <td>2023</td>\n",
              "      <td>Trending</td>\n",
              "      <td>Bìa Mềm</td>\n",
              "      <td>0.0/5 (0 đánh giá)</td>\n",
              "      <td>Sách Học Ngoại Ngữ</td>\n",
              "      <td>https://www.fahasa.com/giao-trinh-chuan-hsk-2-...</td>\n",
              "      <td>142.0</td>\n",
              "    </tr>\n",
              "    <tr>\n",
              "      <th>496</th>\n",
              "      <td>8935246915486</td>\n",
              "      <td>Tự Học 2000 Từ Vựng Tiếng Anh Theo Chủ Đề (Tái...</td>\n",
              "      <td>1.1k</td>\n",
              "      <td>65.000 đ</td>\n",
              "      <td>The Windy</td>\n",
              "      <td>NaN</td>\n",
              "      <td>Tiếng Anh</td>\n",
              "      <td>2019</td>\n",
              "      <td>No</td>\n",
              "      <td>Bìa Mềm</td>\n",
              "      <td>4.45/5 (0 đánh giá)</td>\n",
              "      <td>Sách Học Ngoại Ngữ</td>\n",
              "      <td>https://www.fahasa.com/tu-hoc-2000-tu-vung-tie...</td>\n",
              "      <td>260.0</td>\n",
              "    </tr>\n",
              "    <tr>\n",
              "      <th>508</th>\n",
              "      <td>9781009816250</td>\n",
              "      <td>Cambridge IELTS 19 - Academic - Authentic Prat...</td>\n",
              "      <td>70</td>\n",
              "      <td>250.000 đ</td>\n",
              "      <td>Cambridge</td>\n",
              "      <td>NaN</td>\n",
              "      <td>Tiếng Anh</td>\n",
              "      <td>2024</td>\n",
              "      <td>No</td>\n",
              "      <td>Bìa Mềm</td>\n",
              "      <td>0.0/5 (0 đánh giá)</td>\n",
              "      <td>Sách Học Ngoại Ngữ</td>\n",
              "      <td>https://www.fahasa.com/cambridge-ielts-19-acad...</td>\n",
              "      <td>144.0</td>\n",
              "    </tr>\n",
              "    <tr>\n",
              "      <th>527</th>\n",
              "      <td>9781009465274</td>\n",
              "      <td>Cambridge IELTS 18 Academic - With Answer + Au...</td>\n",
              "      <td>565</td>\n",
              "      <td>230.000 đ</td>\n",
              "      <td>Nhiều Tác Giả</td>\n",
              "      <td>NaN</td>\n",
              "      <td>Tiếng Anh</td>\n",
              "      <td>2023</td>\n",
              "      <td>No</td>\n",
              "      <td>Bìa Mềm</td>\n",
              "      <td>0.0/5 (0 đánh giá)</td>\n",
              "      <td>Sách Học Ngoại Ngữ</td>\n",
              "      <td>https://www.fahasa.com/cambridge-ielts-18-acad...</td>\n",
              "      <td>144.0</td>\n",
              "    </tr>\n",
              "    <tr>\n",
              "      <th>535</th>\n",
              "      <td>8936036317572</td>\n",
              "      <td>Bảng Động Từ Bất Quy Tắc Trong Tiếng Anh</td>\n",
              "      <td>164</td>\n",
              "      <td>10.000 đ</td>\n",
              "      <td>Phan Thị Minh Châu</td>\n",
              "      <td>NaN</td>\n",
              "      <td>Tiếng Anh</td>\n",
              "      <td>2024</td>\n",
              "      <td>No</td>\n",
              "      <td>Bìa Mềm</td>\n",
              "      <td>0.0/5 (0 đánh giá)</td>\n",
              "      <td>Sách Học Ngoại Ngữ</td>\n",
              "      <td>https://www.fahasa.com/dong-tu-bat-quy-tac-tro...</td>\n",
              "      <td>2.0</td>\n",
              "    </tr>\n",
              "    <tr>\n",
              "      <th>537</th>\n",
              "      <td>9786043770353</td>\n",
              "      <td>15.000 Từ Tiếng Anh Phải Biết</td>\n",
              "      <td>131</td>\n",
              "      <td>320.000 đ</td>\n",
              "      <td>Nguyễn Thành Yến</td>\n",
              "      <td>NaN</td>\n",
              "      <td>Tiếng Anh</td>\n",
              "      <td>2023</td>\n",
              "      <td>No</td>\n",
              "      <td>Bìa Mềm</td>\n",
              "      <td>0.0/5 (0 đánh giá)</td>\n",
              "      <td>Sách Học Ngoại Ngữ</td>\n",
              "      <td>https://www.fahasa.com/15-000-tu-tieng-anh-pha...</td>\n",
              "      <td>651.0</td>\n",
              "    </tr>\n",
              "    <tr>\n",
              "      <th>594</th>\n",
              "      <td>8934974189220</td>\n",
              "      <td>Cơn Lốc Quản Trị - Ba Trụ Cột Của Văn Hóa Doan...</td>\n",
              "      <td>179</td>\n",
              "      <td>140.000 đ</td>\n",
              "      <td>Phan Văn Trường</td>\n",
              "      <td>NaN</td>\n",
              "      <td>Tiếng Trung</td>\n",
              "      <td>2023</td>\n",
              "      <td>No</td>\n",
              "      <td>Bìa Mềm</td>\n",
              "      <td>0.0/5 (0 đánh giá)</td>\n",
              "      <td>Kinh Tế</td>\n",
              "      <td>https://www.fahasa.com/con-loc-quan-tri-ba-tru...</td>\n",
              "      <td>248.0</td>\n",
              "    </tr>\n",
              "    <tr>\n",
              "      <th>1462</th>\n",
              "      <td>8935209630180</td>\n",
              "      <td>Từ Điển Hoa Việt</td>\n",
              "      <td>15</td>\n",
              "      <td>55.000 đ</td>\n",
              "      <td>Khổng Đức , Long Cương</td>\n",
              "      <td>NaN</td>\n",
              "      <td>Tiếng Trung</td>\n",
              "      <td>2016</td>\n",
              "      <td>No</td>\n",
              "      <td>Bìa Mềm</td>\n",
              "      <td>0.0/5 (0 đánh giá)</td>\n",
              "      <td>Từ Điển</td>\n",
              "      <td>https://www.fahasa.com/tu-dien-hoa-viet.html</td>\n",
              "      <td>694.0</td>\n",
              "    </tr>\n",
              "    <tr>\n",
              "      <th>1504</th>\n",
              "      <td>8935236430432</td>\n",
              "      <td>Từ Điển Anh-Việt - 75000 Mục Từ Và Định Nghĩa ...</td>\n",
              "      <td>11</td>\n",
              "      <td>125.000 đ</td>\n",
              "      <td>Mạnh Tường, Minh Tân</td>\n",
              "      <td>NaN</td>\n",
              "      <td>Tiếng Trung</td>\n",
              "      <td>2023</td>\n",
              "      <td>No</td>\n",
              "      <td>Bìa Mềm</td>\n",
              "      <td>0.0/5 (0 đánh giá)</td>\n",
              "      <td>Từ Điển</td>\n",
              "      <td>https://www.fahasa.com/tu-dien-anh-viet-75000-...</td>\n",
              "      <td>1152.0</td>\n",
              "    </tr>\n",
              "  </tbody>\n",
              "</table>\n",
              "</div>"
            ],
            "text/plain": [
              "            Mã sách                                           Tên sách  \\\n",
              "245   9786043091199                    Ôn Tập Nhanh Ngữ Pháp Tiếng Anh   \n",
              "480   9786043775679                   Giáo Trình Chuẩn HSK 2 - Bài Học   \n",
              "496   8935246915486  Tự Học 2000 Từ Vựng Tiếng Anh Theo Chủ Đề (Tái...   \n",
              "508   9781009816250  Cambridge IELTS 19 - Academic - Authentic Prat...   \n",
              "527   9781009465274  Cambridge IELTS 18 Academic - With Answer + Au...   \n",
              "535   8936036317572           Bảng Động Từ Bất Quy Tắc Trong Tiếng Anh   \n",
              "537   9786043770353                      15.000 Từ Tiếng Anh Phải Biết   \n",
              "594   8934974189220  Cơn Lốc Quản Trị - Ba Trụ Cột Của Văn Hóa Doan...   \n",
              "1462  8935209630180                                   Từ Điển Hoa Việt   \n",
              "1504  8935236430432  Từ Điển Anh-Việt - 75000 Mục Từ Và Định Nghĩa ...   \n",
              "\n",
              "     Lượt bán        Giá                 Tác giả Người dịch     Ngôn ngữ  \\\n",
              "245       205   20.000 đ          Nguyễn Văn Hòa        NaN    Tiếng Anh   \n",
              "480      3.1k  198.000 đ          Khương Lệ Bình        NaN  Tiếng Trung   \n",
              "496      1.1k   65.000 đ               The Windy        NaN    Tiếng Anh   \n",
              "508        70  250.000 đ               Cambridge        NaN    Tiếng Anh   \n",
              "527       565  230.000 đ           Nhiều Tác Giả        NaN    Tiếng Anh   \n",
              "535       164   10.000 đ      Phan Thị Minh Châu        NaN    Tiếng Anh   \n",
              "537       131  320.000 đ        Nguyễn Thành Yến        NaN    Tiếng Anh   \n",
              "594       179  140.000 đ         Phan Văn Trường        NaN  Tiếng Trung   \n",
              "1462       15   55.000 đ  Khổng Đức , Long Cương        NaN  Tiếng Trung   \n",
              "1504       11  125.000 đ    Mạnh Tường, Minh Tân        NaN  Tiếng Trung   \n",
              "\n",
              "     Năm xuất bản  Xu hướng Hình thức              Ratings  \\\n",
              "245          2021        No   Bìa Mềm   0.0/5 (0 đánh giá)   \n",
              "480          2023  Trending   Bìa Mềm   0.0/5 (0 đánh giá)   \n",
              "496          2019        No   Bìa Mềm  4.45/5 (0 đánh giá)   \n",
              "508          2024        No   Bìa Mềm   0.0/5 (0 đánh giá)   \n",
              "527          2023        No   Bìa Mềm   0.0/5 (0 đánh giá)   \n",
              "535          2024        No   Bìa Mềm   0.0/5 (0 đánh giá)   \n",
              "537          2023        No   Bìa Mềm   0.0/5 (0 đánh giá)   \n",
              "594          2023        No   Bìa Mềm   0.0/5 (0 đánh giá)   \n",
              "1462         2016        No   Bìa Mềm   0.0/5 (0 đánh giá)   \n",
              "1504         2023        No   Bìa Mềm   0.0/5 (0 đánh giá)   \n",
              "\n",
              "                   Thể loại  \\\n",
              "245   Giáo Khoa - Tham Khảo   \n",
              "480      Sách Học Ngoại Ngữ   \n",
              "496      Sách Học Ngoại Ngữ   \n",
              "508      Sách Học Ngoại Ngữ   \n",
              "527      Sách Học Ngoại Ngữ   \n",
              "535      Sách Học Ngoại Ngữ   \n",
              "537      Sách Học Ngoại Ngữ   \n",
              "594                 Kinh Tế   \n",
              "1462                Từ Điển   \n",
              "1504                Từ Điển   \n",
              "\n",
              "                                                   Link  Số trang  \n",
              "245   https://www.fahasa.com/on-tap-nhanh-ngu-phap-t...       1.0  \n",
              "480   https://www.fahasa.com/giao-trinh-chuan-hsk-2-...     142.0  \n",
              "496   https://www.fahasa.com/tu-hoc-2000-tu-vung-tie...     260.0  \n",
              "508   https://www.fahasa.com/cambridge-ielts-19-acad...     144.0  \n",
              "527   https://www.fahasa.com/cambridge-ielts-18-acad...     144.0  \n",
              "535   https://www.fahasa.com/dong-tu-bat-quy-tac-tro...       2.0  \n",
              "537   https://www.fahasa.com/15-000-tu-tieng-anh-pha...     651.0  \n",
              "594   https://www.fahasa.com/con-loc-quan-tri-ba-tru...     248.0  \n",
              "1462       https://www.fahasa.com/tu-dien-hoa-viet.html     694.0  \n",
              "1504  https://www.fahasa.com/tu-dien-anh-viet-75000-...    1152.0  "
            ]
          },
          "execution_count": 14,
          "metadata": {},
          "output_type": "execute_result"
        }
      ],
      "source": [
        "filtered_df = raw_df[(raw_df['Người dịch'].isna()) & (raw_df['Ngôn ngữ'].isin(['Tiếng Anh', 'Tiếng Trung']))]\n",
        "\n",
        "filtered_df"
      ]
    },
    {
      "cell_type": "markdown",
      "metadata": {
        "id": "2JIilKgCIk9k"
      },
      "source": [
        "Vậy là đã rõ, tất cả đều là tiếng Việt và tiếng Anh, nhưng do là giáo trình nên phần `Ngôn ngữ` được đặt theo giáo trình đó về nội dung gì. Nên chúng ta sẽ vấn điền giá trị của trường `Tác giả` vào trường `Người dịch` bị thiếu là hợp lí nhất."
      ]
    },
    {
      "cell_type": "code",
      "execution_count": 15,
      "metadata": {
        "colab": {
          "base_uri": "https://localhost:8080/",
          "height": 523
        },
        "id": "7Po2stVgJajv",
        "outputId": "6fea6256-921d-4c77-9fb5-ff4c05fec2d1"
      },
      "outputs": [
        {
          "data": {
            "text/plain": [
              "Mã sách          0\n",
              "Tên sách         0\n",
              "Lượt bán         0\n",
              "Giá              0\n",
              "Tác giả          0\n",
              "Người dịch       0\n",
              "Ngôn ngữ         0\n",
              "Năm xuất bản     0\n",
              "Xu hướng         0\n",
              "Hình thức        6\n",
              "Ratings          0\n",
              "Thể loại         0\n",
              "Link             0\n",
              "Số trang        19\n",
              "dtype: int64"
            ]
          },
          "execution_count": 15,
          "metadata": {},
          "output_type": "execute_result"
        }
      ],
      "source": [
        "raw_df.loc[:, 'Người dịch'] = raw_df['Người dịch'].fillna(raw_df['Tác giả'])\n",
        "raw_df.isna().sum()"
      ]
    },
    {
      "cell_type": "markdown",
      "metadata": {
        "id": "pyBemAQLKBEq"
      },
      "source": [
        "Xử lí phần còn lại ở `Số trang` (điền -1).\n",
        "Riêng với `Hình thức` thì chúng ta sẽ xem xét các giá trị đã có để suy xét sẽ xử lí như thế nào."
      ]
    },
    {
      "cell_type": "code",
      "execution_count": 16,
      "metadata": {
        "colab": {
          "base_uri": "https://localhost:8080/",
          "height": 272
        },
        "id": "VjGVhZ1sKSO5",
        "outputId": "75e708c6-2ea2-4871-d99c-9afd29379235"
      },
      "outputs": [
        {
          "data": {
            "text/plain": [
              "Hình thức\n",
              "Bìa Mềm       1555\n",
              "Bìa Cứng       130\n",
              "Bộ Hộp           5\n",
              "Board Book       1\n",
              "Bìa Da           1\n",
              "Name: count, dtype: int64"
            ]
          },
          "execution_count": 16,
          "metadata": {},
          "output_type": "execute_result"
        }
      ],
      "source": [
        "raw_df.loc[:, 'Số trang'] = raw_df['Số trang'].fillna(-1)\n",
        "raw_df['Hình thức'].value_counts()"
      ]
    },
    {
      "cell_type": "markdown",
      "metadata": {
        "id": "SWa2bFLyKrWu"
      },
      "source": [
        "Đại bộ phận sách được bán đều thường là bìa mềm, theo một số mẫu đã khảo sát chứa các giá trị thiếu của trường này phần lớn đều là sách bình thường và không có một số đặt trưng của sách Bìa Cứng như novels, sách tranh... Tuy nhiên số lượng cũng không quá nhiều nên chúng ta sẽ điền Bìa Mềm vào các giá trị thiếu."
      ]
    },
    {
      "cell_type": "code",
      "execution_count": 17,
      "metadata": {
        "colab": {
          "base_uri": "https://localhost:8080/",
          "height": 523
        },
        "id": "r9Q9tNxQLLuP",
        "outputId": "7779890e-8252-4531-bace-d1c593087a65"
      },
      "outputs": [
        {
          "data": {
            "text/plain": [
              "Mã sách         0\n",
              "Tên sách        0\n",
              "Lượt bán        0\n",
              "Giá             0\n",
              "Tác giả         0\n",
              "Người dịch      0\n",
              "Ngôn ngữ        0\n",
              "Năm xuất bản    0\n",
              "Xu hướng        0\n",
              "Hình thức       0\n",
              "Ratings         0\n",
              "Thể loại        0\n",
              "Link            0\n",
              "Số trang        0\n",
              "dtype: int64"
            ]
          },
          "execution_count": 17,
          "metadata": {},
          "output_type": "execute_result"
        }
      ],
      "source": [
        "raw_df.loc[:, 'Hình thức'] = raw_df['Hình thức'].fillna('Bìa mềm')\n",
        "raw_df.isna().sum()"
      ]
    },
    {
      "cell_type": "markdown",
      "metadata": {
        "id": "VoAP9cnHLYL6"
      },
      "source": [
        "## **Kiểu dữ liệu**"
      ]
    },
    {
      "cell_type": "code",
      "execution_count": 18,
      "metadata": {
        "colab": {
          "base_uri": "https://localhost:8080/"
        },
        "id": "URU4Jkf4LdXw",
        "outputId": "ac6ef836-e432-4434-8ae0-44829062a039"
      },
      "outputs": [
        {
          "name": "stdout",
          "output_type": "stream",
          "text": [
            "<class 'pandas.core.frame.DataFrame'>\n",
            "Index: 1698 entries, 0 to 1766\n",
            "Data columns (total 14 columns):\n",
            " #   Column        Non-Null Count  Dtype  \n",
            "---  ------        --------------  -----  \n",
            " 0   Mã sách       1698 non-null   object \n",
            " 1   Tên sách      1698 non-null   object \n",
            " 2   Lượt bán      1698 non-null   object \n",
            " 3   Giá           1698 non-null   object \n",
            " 4   Tác giả       1698 non-null   object \n",
            " 5   Người dịch    1698 non-null   object \n",
            " 6   Ngôn ngữ      1698 non-null   object \n",
            " 7   Năm xuất bản  1698 non-null   object \n",
            " 8   Xu hướng      1698 non-null   object \n",
            " 9   Hình thức     1698 non-null   object \n",
            " 10  Ratings       1698 non-null   object \n",
            " 11  Thể loại      1698 non-null   object \n",
            " 12  Link          1698 non-null   object \n",
            " 13  Số trang      1698 non-null   float64\n",
            "dtypes: float64(1), object(13)\n",
            "memory usage: 199.0+ KB\n"
          ]
        }
      ],
      "source": [
        "raw_df.info()"
      ]
    },
    {
      "cell_type": "markdown",
      "metadata": {
        "id": "DFT6IdSBVpr3"
      },
      "source": [
        "Đối với `Giá` chúng ta sẽ xử lí chuỗi: bỏ đơn vị 'đ', bỏ dấu '.' để kiểu dữ liệu của trường này sẽ trở thành kiểu dữ liệu số."
      ]
    },
    {
      "cell_type": "code",
      "execution_count": 19,
      "metadata": {
        "id": "5ks27JvOXSZa"
      },
      "outputs": [],
      "source": [
        "raw_df['Giá'] = raw_df['Giá'].str.replace('đ', '')\n",
        "raw_df['Giá'] = raw_df['Giá'].str.replace('.', '')\n",
        "raw_df['Giá'] = raw_df['Giá'].astype(int)"
      ]
    },
    {
      "cell_type": "markdown",
      "metadata": {
        "id": "rSI_349LXbkr"
      },
      "source": [
        "Đối với `Năm xuất bản` chúng ta cũng chuyển về datetime"
      ]
    },
    {
      "cell_type": "code",
      "execution_count": 20,
      "metadata": {
        "id": "6IxupvX6Xuay"
      },
      "outputs": [],
      "source": [
        "raw_df['Năm xuất bản'] = pd.to_datetime(raw_df['Năm xuất bản'], format='%Y', errors='coerce')"
      ]
    },
    {
      "cell_type": "markdown",
      "metadata": {
        "id": "ICmMdixbakAa"
      },
      "source": [
        "Xử lí chuỗi `Ratings` để kiểu dữ liệu trở thành số (float)"
      ]
    },
    {
      "cell_type": "code",
      "execution_count": 21,
      "metadata": {
        "id": "KTX7EFdyapV3"
      },
      "outputs": [],
      "source": [
        "# 0.0/5 (0 đánh giá)\n",
        "raw_df['Ratings'] = raw_df['Ratings'].str.extract(r'(\\d+\\.\\d+)').astype(float)"
      ]
    },
    {
      "cell_type": "markdown",
      "metadata": {
        "id": "X7lIQDh8fAHj"
      },
      "source": [
        "Xử lí `Xu hướng`, 0 cho No, 1 cho Trending, 2 cho Bestseller"
      ]
    },
    {
      "cell_type": "code",
      "execution_count": 22,
      "metadata": {
        "colab": {
          "base_uri": "https://localhost:8080/",
          "height": 210
        },
        "id": "IzVUREH_fZyj",
        "outputId": "f86485c6-78aa-4b8e-9942-ba96431b1273"
      },
      "outputs": [
        {
          "data": {
            "text/plain": [
              "Xu hướng\n",
              "No            1527\n",
              "Trending        95\n",
              "Bestseller      76\n",
              "Name: count, dtype: int64"
            ]
          },
          "execution_count": 22,
          "metadata": {},
          "output_type": "execute_result"
        }
      ],
      "source": [
        "raw_df['Xu hướng'].value_counts()"
      ]
    },
    {
      "cell_type": "code",
      "execution_count": null,
      "metadata": {
        "colab": {
          "base_uri": "https://localhost:8080/",
          "height": 264
        },
        "id": "PRCJrXb3fJeQ",
        "outputId": "6beed6d2-158a-4c9e-b208-6f0e876dba33"
      },
      "outputs": [
        {
          "data": {
            "text/plain": [
              "Xu hướng\n",
              "0    1527\n",
              "2      95\n",
              "1      76\n",
              "Name: count, dtype: int64"
            ]
          },
          "execution_count": 23,
          "metadata": {},
          "output_type": "execute_result"
        }
      ],
      "source": [
        "raw_df['Xu hướng'] = raw_df['Xu hướng'].replace({'Trending': 'Thịnh hành', 'Bestseller': 'Bán chạy', 'No': 'Bình thường'})\n",
        "raw_df['Xu hướng'].value_counts()"
      ]
    },
    {
      "cell_type": "markdown",
      "metadata": {
        "id": "c4m1bs6Vg-VV"
      },
      "source": [
        "Xử lí `Lượt bán` về kiểu dữ liệu số."
      ]
    },
    {
      "cell_type": "code",
      "execution_count": 31,
      "metadata": {},
      "outputs": [],
      "source": [
        "def standardize_sales(s):\n",
        "    if isinstance(s, str):\n",
        "        s = s.replace('+', '')  # Loại bỏ dấu '+'\n",
        "        if 'k' in s:\n",
        "            return int(float(s.replace('k', '')) * 1000)\n",
        "        elif 'm' in s:\n",
        "            return int(float(s.replace('m', '')) * 1000000) # Vì khả năng cao là số lượt bán không thể quá 1 triệu\n",
        "        else:\n",
        "            return int(s)\n",
        "    return s"
      ]
    },
    {
      "cell_type": "code",
      "execution_count": 32,
      "metadata": {},
      "outputs": [],
      "source": [
        "raw_df['Lượt bán'] = raw_df['Lượt bán'].apply(standardize_sales).astype(int)"
      ]
    },
    {
      "cell_type": "code",
      "execution_count": 33,
      "metadata": {
        "colab": {
          "base_uri": "https://localhost:8080/"
        },
        "id": "TkjZR3jEgyld",
        "outputId": "1617b466-37ff-4657-b7d7-d27ba2b1ec82"
      },
      "outputs": [
        {
          "name": "stdout",
          "output_type": "stream",
          "text": [
            "<class 'pandas.core.frame.DataFrame'>\n",
            "Index: 1698 entries, 0 to 1766\n",
            "Data columns (total 14 columns):\n",
            " #   Column        Non-Null Count  Dtype         \n",
            "---  ------        --------------  -----         \n",
            " 0   Mã sách       1698 non-null   object        \n",
            " 1   Tên sách      1698 non-null   object        \n",
            " 2   Lượt bán      1698 non-null   int32         \n",
            " 3   Giá           1698 non-null   int32         \n",
            " 4   Tác giả       1698 non-null   object        \n",
            " 5   Người dịch    1698 non-null   object        \n",
            " 6   Ngôn ngữ      1698 non-null   object        \n",
            " 7   Năm xuất bản  1657 non-null   datetime64[ns]\n",
            " 8   Xu hướng      1698 non-null   int64         \n",
            " 9   Hình thức     1698 non-null   object        \n",
            " 10  Ratings       1698 non-null   float64       \n",
            " 11  Thể loại      1698 non-null   object        \n",
            " 12  Link          1698 non-null   object        \n",
            " 13  Số trang      1698 non-null   float64       \n",
            "dtypes: datetime64[ns](1), float64(2), int32(2), int64(1), object(8)\n",
            "memory usage: 185.7+ KB\n"
          ]
        }
      ],
      "source": [
        "raw_df.info()"
      ]
    },
    {
      "cell_type": "code",
      "execution_count": 25,
      "metadata": {
        "colab": {
          "base_uri": "https://localhost:8080/",
          "height": 363
        },
        "id": "WoxD894aeheo",
        "outputId": "e81cec47-7897-4685-e57c-a2213dbf8853"
      },
      "outputs": [
        {
          "data": {
            "text/html": [
              "<div>\n",
              "<style scoped>\n",
              "    .dataframe tbody tr th:only-of-type {\n",
              "        vertical-align: middle;\n",
              "    }\n",
              "\n",
              "    .dataframe tbody tr th {\n",
              "        vertical-align: top;\n",
              "    }\n",
              "\n",
              "    .dataframe thead th {\n",
              "        text-align: right;\n",
              "    }\n",
              "</style>\n",
              "<table border=\"1\" class=\"dataframe\">\n",
              "  <thead>\n",
              "    <tr style=\"text-align: right;\">\n",
              "      <th></th>\n",
              "      <th>Mã sách</th>\n",
              "      <th>Tên sách</th>\n",
              "      <th>Lượt bán</th>\n",
              "      <th>Giá</th>\n",
              "      <th>Tác giả</th>\n",
              "      <th>Người dịch</th>\n",
              "      <th>Ngôn ngữ</th>\n",
              "      <th>Năm xuất bản</th>\n",
              "      <th>Xu hướng</th>\n",
              "      <th>Hình thức</th>\n",
              "      <th>Ratings</th>\n",
              "      <th>Thể loại</th>\n",
              "      <th>Link</th>\n",
              "      <th>Số trang</th>\n",
              "    </tr>\n",
              "  </thead>\n",
              "  <tbody>\n",
              "    <tr>\n",
              "      <th>1648</th>\n",
              "      <td>9786043812008</td>\n",
              "      <td>Yoga For Men - Phục Hồi Và Tăng Sức Mạnh Nam Giới</td>\n",
              "      <td>15</td>\n",
              "      <td>168000</td>\n",
              "      <td>Srinivas S.Kamal</td>\n",
              "      <td>Huyền Bùi</td>\n",
              "      <td>Tiếng Việt</td>\n",
              "      <td>NaT</td>\n",
              "      <td>0</td>\n",
              "      <td>Bìa Mềm</td>\n",
              "      <td>0.0</td>\n",
              "      <td>Thể Dục Thể Thao - Giải Trí</td>\n",
              "      <td>https://www.fahasa.com/yoga-for-men-phuc-hoi-v...</td>\n",
              "      <td>170.0</td>\n",
              "    </tr>\n",
              "    <tr>\n",
              "      <th>1347</th>\n",
              "      <td>9786049916113</td>\n",
              "      <td>Thực Đơn Dinh Dưỡng Cho Người Bệnh Đau Đầu</td>\n",
              "      <td>4</td>\n",
              "      <td>72000</td>\n",
              "      <td>Hồng Yến</td>\n",
              "      <td>Hồng Yến</td>\n",
              "      <td>Tiếng Việt</td>\n",
              "      <td>2020-01-01</td>\n",
              "      <td>0</td>\n",
              "      <td>Bìa Mềm</td>\n",
              "      <td>0.0</td>\n",
              "      <td>Nữ Công Gia Chánh</td>\n",
              "      <td>https://www.fahasa.com/tb-thuc-don-dinh-duong-...</td>\n",
              "      <td>192.0</td>\n",
              "    </tr>\n",
              "    <tr>\n",
              "      <th>1199</th>\n",
              "      <td>8935325025068</td>\n",
              "      <td>Thiên Quan Tứ Phúc - Bản Hoạt Hình - Tập 3 - T...</td>\n",
              "      <td>56</td>\n",
              "      <td>179000</td>\n",
              "      <td>Mặc Hương Đồng Khứu, Bilibili</td>\n",
              "      <td>Tố Tố</td>\n",
              "      <td>Tiếng Việt</td>\n",
              "      <td>2024-01-01</td>\n",
              "      <td>0</td>\n",
              "      <td>Bìa Mềm</td>\n",
              "      <td>0.0</td>\n",
              "      <td>Đam Mỹ</td>\n",
              "      <td>https://www.fahasa.com/thien-quan-tu-phuc-ban-...</td>\n",
              "      <td>248.0</td>\n",
              "    </tr>\n",
              "    <tr>\n",
              "      <th>1070</th>\n",
              "      <td>8935251415148</td>\n",
              "      <td>Giải Mã Ngành Công Nghiệp Âm Nhạc</td>\n",
              "      <td>12</td>\n",
              "      <td>299000</td>\n",
              "      <td>Donald S Passman</td>\n",
              "      <td>Lê Thu Thủy</td>\n",
              "      <td>Tiếng Việt</td>\n",
              "      <td>2022-01-01</td>\n",
              "      <td>0</td>\n",
              "      <td>Bìa mềm</td>\n",
              "      <td>0.0</td>\n",
              "      <td>Tiểu Sử Hồi Ký</td>\n",
              "      <td>https://www.fahasa.com/giai-ma-nganh-cong-nghi...</td>\n",
              "      <td>492.0</td>\n",
              "    </tr>\n",
              "    <tr>\n",
              "      <th>288</th>\n",
              "      <td>8935069922043</td>\n",
              "      <td>Được Học (Tái Bản 2022)</td>\n",
              "      <td>826</td>\n",
              "      <td>182000</td>\n",
              "      <td>Tara Westover</td>\n",
              "      <td>Nguyễn Bích Lan</td>\n",
              "      <td>Tiếng Việt</td>\n",
              "      <td>2022-01-01</td>\n",
              "      <td>2</td>\n",
              "      <td>Bìa Mềm</td>\n",
              "      <td>0.0</td>\n",
              "      <td>Tâm Lý - Kỹ Năng Sống</td>\n",
              "      <td>https://www.fahasa.com/duoc-hoc-tai-ban-2022.html</td>\n",
              "      <td>320.0</td>\n",
              "    </tr>\n",
              "  </tbody>\n",
              "</table>\n",
              "</div>"
            ],
            "text/plain": [
              "            Mã sách                                           Tên sách  \\\n",
              "1648  9786043812008  Yoga For Men - Phục Hồi Và Tăng Sức Mạnh Nam Giới   \n",
              "1347  9786049916113         Thực Đơn Dinh Dưỡng Cho Người Bệnh Đau Đầu   \n",
              "1199  8935325025068  Thiên Quan Tứ Phúc - Bản Hoạt Hình - Tập 3 - T...   \n",
              "1070  8935251415148                  Giải Mã Ngành Công Nghiệp Âm Nhạc   \n",
              "288   8935069922043                            Được Học (Tái Bản 2022)   \n",
              "\n",
              "     Lượt bán     Giá                        Tác giả       Người dịch  \\\n",
              "1648       15  168000               Srinivas S.Kamal        Huyền Bùi   \n",
              "1347        4   72000                       Hồng Yến         Hồng Yến   \n",
              "1199       56  179000  Mặc Hương Đồng Khứu, Bilibili            Tố Tố   \n",
              "1070       12  299000               Donald S Passman      Lê Thu Thủy   \n",
              "288       826  182000                  Tara Westover  Nguyễn Bích Lan   \n",
              "\n",
              "        Ngôn ngữ Năm xuất bản  Xu hướng Hình thức  Ratings  \\\n",
              "1648  Tiếng Việt          NaT         0   Bìa Mềm      0.0   \n",
              "1347  Tiếng Việt   2020-01-01         0   Bìa Mềm      0.0   \n",
              "1199  Tiếng Việt   2024-01-01         0   Bìa Mềm      0.0   \n",
              "1070  Tiếng Việt   2022-01-01         0   Bìa mềm      0.0   \n",
              "288   Tiếng Việt   2022-01-01         2   Bìa Mềm      0.0   \n",
              "\n",
              "                         Thể loại  \\\n",
              "1648  Thể Dục Thể Thao - Giải Trí   \n",
              "1347            Nữ Công Gia Chánh   \n",
              "1199                       Đam Mỹ   \n",
              "1070               Tiểu Sử Hồi Ký   \n",
              "288         Tâm Lý - Kỹ Năng Sống   \n",
              "\n",
              "                                                   Link  Số trang  \n",
              "1648  https://www.fahasa.com/yoga-for-men-phuc-hoi-v...     170.0  \n",
              "1347  https://www.fahasa.com/tb-thuc-don-dinh-duong-...     192.0  \n",
              "1199  https://www.fahasa.com/thien-quan-tu-phuc-ban-...     248.0  \n",
              "1070  https://www.fahasa.com/giai-ma-nganh-cong-nghi...     492.0  \n",
              "288   https://www.fahasa.com/duoc-hoc-tai-ban-2022.html     320.0  "
            ]
          },
          "execution_count": 25,
          "metadata": {},
          "output_type": "execute_result"
        }
      ],
      "source": [
        "raw_df.sample(5)"
      ]
    },
    {
      "cell_type": "code",
      "execution_count": 3,
      "metadata": {},
      "outputs": [
        {
          "data": {
            "text/plain": [
              "41"
            ]
          },
          "execution_count": 3,
          "metadata": {},
          "output_type": "execute_result"
        }
      ],
      "source": [
        "raw_df['Năm xuất bản'].isna().sum()"
      ]
    },
    {
      "cell_type": "code",
      "execution_count": 4,
      "metadata": {},
      "outputs": [],
      "source": [
        "raw_df = raw_df.dropna(subset=['Năm xuất bản'])"
      ]
    },
    {
      "cell_type": "code",
      "execution_count": 6,
      "metadata": {},
      "outputs": [],
      "source": [
        "raw_df.to_csv('./data/cleaned_data.csv', index=False, encoding='utf-8-sig')"
      ]
    },
    {
      "cell_type": "markdown",
      "metadata": {},
      "source": [
        "# **Trực quan hóa**"
      ]
    },
    {
      "cell_type": "code",
      "execution_count": 2,
      "metadata": {},
      "outputs": [
        {
          "data": {
            "text/html": [
              "<div>\n",
              "<style scoped>\n",
              "    .dataframe tbody tr th:only-of-type {\n",
              "        vertical-align: middle;\n",
              "    }\n",
              "\n",
              "    .dataframe tbody tr th {\n",
              "        vertical-align: top;\n",
              "    }\n",
              "\n",
              "    .dataframe thead th {\n",
              "        text-align: right;\n",
              "    }\n",
              "</style>\n",
              "<table border=\"1\" class=\"dataframe\">\n",
              "  <thead>\n",
              "    <tr style=\"text-align: right;\">\n",
              "      <th></th>\n",
              "      <th>Mã sách</th>\n",
              "      <th>Tên sách</th>\n",
              "      <th>Lượt bán</th>\n",
              "      <th>Giá</th>\n",
              "      <th>Tác giả</th>\n",
              "      <th>Người dịch</th>\n",
              "      <th>Ngôn ngữ</th>\n",
              "      <th>Năm xuất bản</th>\n",
              "      <th>Xu hướng</th>\n",
              "      <th>Hình thức</th>\n",
              "      <th>Ratings</th>\n",
              "      <th>Thể loại</th>\n",
              "      <th>Số trang</th>\n",
              "    </tr>\n",
              "  </thead>\n",
              "  <tbody>\n",
              "    <tr>\n",
              "      <th>0</th>\n",
              "      <td>8936214272648</td>\n",
              "      <td>Góc Nhỏ Có Nắng</td>\n",
              "      <td>10000</td>\n",
              "      <td>68000</td>\n",
              "      <td>Little Rainbow</td>\n",
              "      <td>Little Rainbow</td>\n",
              "      <td>Tiếng Việt</td>\n",
              "      <td>2024-01-01</td>\n",
              "      <td>2</td>\n",
              "      <td>Bìa Mềm</td>\n",
              "      <td>5.0</td>\n",
              "      <td>Văn Học</td>\n",
              "      <td>64.0</td>\n",
              "    </tr>\n",
              "    <tr>\n",
              "      <th>1</th>\n",
              "      <td>8932000134749</td>\n",
              "      <td>Nếu Biết Trăm Năm Là Hữu Hạn - Ấn Bản Kỉ Niệm ...</td>\n",
              "      <td>1900</td>\n",
              "      <td>159000</td>\n",
              "      <td>Phạm Lữ Ân</td>\n",
              "      <td>Phạm Lữ Ân</td>\n",
              "      <td>Tiếng Việt</td>\n",
              "      <td>2024-01-01</td>\n",
              "      <td>2</td>\n",
              "      <td>Bìa Mềm</td>\n",
              "      <td>0.0</td>\n",
              "      <td>Văn Học</td>\n",
              "      <td>263.0</td>\n",
              "    </tr>\n",
              "    <tr>\n",
              "      <th>2</th>\n",
              "      <td>8934974182375</td>\n",
              "      <td>Người Đàn Ông Mang Tên OVE (Tái Bản)</td>\n",
              "      <td>2500</td>\n",
              "      <td>160000</td>\n",
              "      <td>Fredrik Backman</td>\n",
              "      <td>Hoàng Anh</td>\n",
              "      <td>Tiếng Việt</td>\n",
              "      <td>2022-01-01</td>\n",
              "      <td>2</td>\n",
              "      <td>Bìa Mềm</td>\n",
              "      <td>0.0</td>\n",
              "      <td>Văn Học</td>\n",
              "      <td>452.0</td>\n",
              "    </tr>\n",
              "    <tr>\n",
              "      <th>3</th>\n",
              "      <td>8935235228351</td>\n",
              "      <td>Cây Cam Ngọt Của Tôi</td>\n",
              "      <td>2900</td>\n",
              "      <td>108000</td>\n",
              "      <td>José Mauro de Vasconcelos</td>\n",
              "      <td>Nguyễn Bích Lan, Tô Yến Ly</td>\n",
              "      <td>Tiếng Việt</td>\n",
              "      <td>2020-01-01</td>\n",
              "      <td>2</td>\n",
              "      <td>Bìa Mềm</td>\n",
              "      <td>4.4</td>\n",
              "      <td>Văn Học</td>\n",
              "      <td>244.0</td>\n",
              "    </tr>\n",
              "    <tr>\n",
              "      <th>4</th>\n",
              "      <td>8936213491613</td>\n",
              "      <td>Hà Thanh Hải Yến - Ngang Qua Ngõ Nhỏ Bình An</td>\n",
              "      <td>190</td>\n",
              "      <td>196000</td>\n",
              "      <td>Quất Tử Bất Toan</td>\n",
              "      <td>Lục Bích</td>\n",
              "      <td>Tiếng Việt</td>\n",
              "      <td>2024-01-01</td>\n",
              "      <td>2</td>\n",
              "      <td>Bìa Mềm</td>\n",
              "      <td>0.0</td>\n",
              "      <td>Văn Học</td>\n",
              "      <td>324.0</td>\n",
              "    </tr>\n",
              "  </tbody>\n",
              "</table>\n",
              "</div>"
            ],
            "text/plain": [
              "         Mã sách                                           Tên sách  Lượt bán  \\\n",
              "0  8936214272648                                    Góc Nhỏ Có Nắng     10000   \n",
              "1  8932000134749  Nếu Biết Trăm Năm Là Hữu Hạn - Ấn Bản Kỉ Niệm ...      1900   \n",
              "2  8934974182375               Người Đàn Ông Mang Tên OVE (Tái Bản)      2500   \n",
              "3  8935235228351                               Cây Cam Ngọt Của Tôi      2900   \n",
              "4  8936213491613       Hà Thanh Hải Yến - Ngang Qua Ngõ Nhỏ Bình An       190   \n",
              "\n",
              "      Giá                    Tác giả                  Người dịch    Ngôn ngữ  \\\n",
              "0   68000             Little Rainbow              Little Rainbow  Tiếng Việt   \n",
              "1  159000                 Phạm Lữ Ân                  Phạm Lữ Ân  Tiếng Việt   \n",
              "2  160000            Fredrik Backman                   Hoàng Anh  Tiếng Việt   \n",
              "3  108000  José Mauro de Vasconcelos  Nguyễn Bích Lan, Tô Yến Ly  Tiếng Việt   \n",
              "4  196000           Quất Tử Bất Toan                    Lục Bích  Tiếng Việt   \n",
              "\n",
              "  Năm xuất bản  Xu hướng Hình thức  Ratings Thể loại  Số trang  \n",
              "0   2024-01-01         2   Bìa Mềm      5.0  Văn Học      64.0  \n",
              "1   2024-01-01         2   Bìa Mềm      0.0  Văn Học     263.0  \n",
              "2   2022-01-01         2   Bìa Mềm      0.0  Văn Học     452.0  \n",
              "3   2020-01-01         2   Bìa Mềm      4.4  Văn Học     244.0  \n",
              "4   2024-01-01         2   Bìa Mềm      0.0  Văn Học     324.0  "
            ]
          },
          "execution_count": 2,
          "metadata": {},
          "output_type": "execute_result"
        }
      ],
      "source": [
        "df = pd.read_csv('./data/cleaned_data.csv', encoding='utf-8-sig')\n",
        "df.head()"
      ]
    },
    {
      "cell_type": "markdown",
      "metadata": {},
      "source": [
        "Xóa cột không cần thiết"
      ]
    },
    {
      "cell_type": "code",
      "execution_count": 8,
      "metadata": {},
      "outputs": [
        {
          "data": {
            "text/plain": [
              "Index(['Mã sách', 'Tên sách', 'Lượt bán', 'Giá', 'Tác giả', 'Người dịch',\n",
              "       'Ngôn ngữ', 'Năm xuất bản', 'Xu hướng', 'Hình thức', 'Ratings',\n",
              "       'Thể loại', 'Số trang'],\n",
              "      dtype='object')"
            ]
          },
          "execution_count": 8,
          "metadata": {},
          "output_type": "execute_result"
        }
      ],
      "source": [
        "df = df.drop(columns='Link')\n",
        "df.columns"
      ]
    },
    {
      "cell_type": "code",
      "execution_count": 9,
      "metadata": {},
      "outputs": [],
      "source": [
        "df.to_csv('./data/cleaned_data.csv', index=False, encoding='utf-8-sig')"
      ]
    },
    {
      "cell_type": "markdown",
      "metadata": {},
      "source": [
        "## **Trang 2**"
      ]
    },
    {
      "cell_type": "code",
      "execution_count": 17,
      "metadata": {},
      "outputs": [
        {
          "data": {
            "text/html": [
              "<div>\n",
              "<style scoped>\n",
              "    .dataframe tbody tr th:only-of-type {\n",
              "        vertical-align: middle;\n",
              "    }\n",
              "\n",
              "    .dataframe tbody tr th {\n",
              "        vertical-align: top;\n",
              "    }\n",
              "\n",
              "    .dataframe thead th {\n",
              "        text-align: right;\n",
              "    }\n",
              "</style>\n",
              "<table border=\"1\" class=\"dataframe\">\n",
              "  <thead>\n",
              "    <tr style=\"text-align: right;\">\n",
              "      <th></th>\n",
              "      <th>Mã sách</th>\n",
              "      <th>Tên sách</th>\n",
              "      <th>Lượt bán</th>\n",
              "      <th>Giá</th>\n",
              "      <th>Tác giả</th>\n",
              "      <th>Người dịch</th>\n",
              "      <th>Ngôn ngữ</th>\n",
              "      <th>Năm xuất bản</th>\n",
              "      <th>Xu hướng</th>\n",
              "      <th>Hình thức</th>\n",
              "      <th>Ratings</th>\n",
              "      <th>Thể loại</th>\n",
              "      <th>Số trang</th>\n",
              "    </tr>\n",
              "  </thead>\n",
              "  <tbody>\n",
              "    <tr>\n",
              "      <th>0</th>\n",
              "      <td>8936214272648</td>\n",
              "      <td>Góc Nhỏ Có Nắng</td>\n",
              "      <td>10000</td>\n",
              "      <td>68000</td>\n",
              "      <td>Little Rainbow</td>\n",
              "      <td>Little Rainbow</td>\n",
              "      <td>Tiếng Việt</td>\n",
              "      <td>2024-01-01</td>\n",
              "      <td>Thịnh hành</td>\n",
              "      <td>Bìa Mềm</td>\n",
              "      <td>5.0</td>\n",
              "      <td>Văn Học</td>\n",
              "      <td>64.0</td>\n",
              "    </tr>\n",
              "    <tr>\n",
              "      <th>1</th>\n",
              "      <td>8932000134749</td>\n",
              "      <td>Nếu Biết Trăm Năm Là Hữu Hạn - Ấn Bản Kỉ Niệm ...</td>\n",
              "      <td>1900</td>\n",
              "      <td>159000</td>\n",
              "      <td>Phạm Lữ Ân</td>\n",
              "      <td>Phạm Lữ Ân</td>\n",
              "      <td>Tiếng Việt</td>\n",
              "      <td>2024-01-01</td>\n",
              "      <td>Thịnh hành</td>\n",
              "      <td>Bìa Mềm</td>\n",
              "      <td>0.0</td>\n",
              "      <td>Văn Học</td>\n",
              "      <td>263.0</td>\n",
              "    </tr>\n",
              "    <tr>\n",
              "      <th>2</th>\n",
              "      <td>8934974182375</td>\n",
              "      <td>Người Đàn Ông Mang Tên OVE (Tái Bản)</td>\n",
              "      <td>2500</td>\n",
              "      <td>160000</td>\n",
              "      <td>Fredrik Backman</td>\n",
              "      <td>Hoàng Anh</td>\n",
              "      <td>Tiếng Việt</td>\n",
              "      <td>2022-01-01</td>\n",
              "      <td>Thịnh hành</td>\n",
              "      <td>Bìa Mềm</td>\n",
              "      <td>0.0</td>\n",
              "      <td>Văn Học</td>\n",
              "      <td>452.0</td>\n",
              "    </tr>\n",
              "    <tr>\n",
              "      <th>3</th>\n",
              "      <td>8935235228351</td>\n",
              "      <td>Cây Cam Ngọt Của Tôi</td>\n",
              "      <td>2900</td>\n",
              "      <td>108000</td>\n",
              "      <td>José Mauro de Vasconcelos</td>\n",
              "      <td>Nguyễn Bích Lan, Tô Yến Ly</td>\n",
              "      <td>Tiếng Việt</td>\n",
              "      <td>2020-01-01</td>\n",
              "      <td>Thịnh hành</td>\n",
              "      <td>Bìa Mềm</td>\n",
              "      <td>4.4</td>\n",
              "      <td>Văn Học</td>\n",
              "      <td>244.0</td>\n",
              "    </tr>\n",
              "    <tr>\n",
              "      <th>4</th>\n",
              "      <td>8936213491613</td>\n",
              "      <td>Hà Thanh Hải Yến - Ngang Qua Ngõ Nhỏ Bình An</td>\n",
              "      <td>190</td>\n",
              "      <td>196000</td>\n",
              "      <td>Quất Tử Bất Toan</td>\n",
              "      <td>Lục Bích</td>\n",
              "      <td>Tiếng Việt</td>\n",
              "      <td>2024-01-01</td>\n",
              "      <td>Thịnh hành</td>\n",
              "      <td>Bìa Mềm</td>\n",
              "      <td>0.0</td>\n",
              "      <td>Văn Học</td>\n",
              "      <td>324.0</td>\n",
              "    </tr>\n",
              "  </tbody>\n",
              "</table>\n",
              "</div>"
            ],
            "text/plain": [
              "         Mã sách                                           Tên sách  Lượt bán  \\\n",
              "0  8936214272648                                    Góc Nhỏ Có Nắng     10000   \n",
              "1  8932000134749  Nếu Biết Trăm Năm Là Hữu Hạn - Ấn Bản Kỉ Niệm ...      1900   \n",
              "2  8934974182375               Người Đàn Ông Mang Tên OVE (Tái Bản)      2500   \n",
              "3  8935235228351                               Cây Cam Ngọt Của Tôi      2900   \n",
              "4  8936213491613       Hà Thanh Hải Yến - Ngang Qua Ngõ Nhỏ Bình An       190   \n",
              "\n",
              "      Giá                    Tác giả                  Người dịch    Ngôn ngữ  \\\n",
              "0   68000             Little Rainbow              Little Rainbow  Tiếng Việt   \n",
              "1  159000                 Phạm Lữ Ân                  Phạm Lữ Ân  Tiếng Việt   \n",
              "2  160000            Fredrik Backman                   Hoàng Anh  Tiếng Việt   \n",
              "3  108000  José Mauro de Vasconcelos  Nguyễn Bích Lan, Tô Yến Ly  Tiếng Việt   \n",
              "4  196000           Quất Tử Bất Toan                    Lục Bích  Tiếng Việt   \n",
              "\n",
              "  Năm xuất bản    Xu hướng Hình thức  Ratings Thể loại  Số trang  \n",
              "0   2024-01-01  Thịnh hành   Bìa Mềm      5.0  Văn Học      64.0  \n",
              "1   2024-01-01  Thịnh hành   Bìa Mềm      0.0  Văn Học     263.0  \n",
              "2   2022-01-01  Thịnh hành   Bìa Mềm      0.0  Văn Học     452.0  \n",
              "3   2020-01-01  Thịnh hành   Bìa Mềm      4.4  Văn Học     244.0  \n",
              "4   2024-01-01  Thịnh hành   Bìa Mềm      0.0  Văn Học     324.0  "
            ]
          },
          "execution_count": 17,
          "metadata": {},
          "output_type": "execute_result"
        }
      ],
      "source": [
        "df = pd.read_csv('./data/cleaned_data.csv', encoding='utf-8-sig')\n",
        "df.head()"
      ]
    },
    {
      "cell_type": "code",
      "execution_count": 24,
      "metadata": {},
      "outputs": [
        {
          "data": {
            "text/html": [
              "<div>\n",
              "<style scoped>\n",
              "    .dataframe tbody tr th:only-of-type {\n",
              "        vertical-align: middle;\n",
              "    }\n",
              "\n",
              "    .dataframe tbody tr th {\n",
              "        vertical-align: top;\n",
              "    }\n",
              "\n",
              "    .dataframe thead th {\n",
              "        text-align: right;\n",
              "    }\n",
              "</style>\n",
              "<table border=\"1\" class=\"dataframe\">\n",
              "  <thead>\n",
              "    <tr style=\"text-align: right;\">\n",
              "      <th></th>\n",
              "      <th>Mã sách</th>\n",
              "      <th>Tên sách</th>\n",
              "      <th>Lượt bán</th>\n",
              "      <th>Giá</th>\n",
              "      <th>Tác giả</th>\n",
              "      <th>Người dịch</th>\n",
              "      <th>Ngôn ngữ</th>\n",
              "      <th>Năm xuất bản</th>\n",
              "      <th>Xu hướng</th>\n",
              "      <th>Hình thức</th>\n",
              "      <th>Ratings</th>\n",
              "      <th>Thể loại</th>\n",
              "      <th>Số trang</th>\n",
              "      <th>Xu hướng số</th>\n",
              "    </tr>\n",
              "  </thead>\n",
              "  <tbody>\n",
              "    <tr>\n",
              "      <th>0</th>\n",
              "      <td>8936214272648</td>\n",
              "      <td>Góc Nhỏ Có Nắng</td>\n",
              "      <td>10000</td>\n",
              "      <td>68000</td>\n",
              "      <td>Little Rainbow</td>\n",
              "      <td>Little Rainbow</td>\n",
              "      <td>Tiếng Việt</td>\n",
              "      <td>2024-01-01</td>\n",
              "      <td>Thịnh hành</td>\n",
              "      <td>Bìa Mềm</td>\n",
              "      <td>4.5-5</td>\n",
              "      <td>Văn Học</td>\n",
              "      <td>64.0</td>\n",
              "      <td>3</td>\n",
              "    </tr>\n",
              "    <tr>\n",
              "      <th>1</th>\n",
              "      <td>8932000134749</td>\n",
              "      <td>Nếu Biết Trăm Năm Là Hữu Hạn - Ấn Bản Kỉ Niệm ...</td>\n",
              "      <td>1900</td>\n",
              "      <td>159000</td>\n",
              "      <td>Phạm Lữ Ân</td>\n",
              "      <td>Phạm Lữ Ân</td>\n",
              "      <td>Tiếng Việt</td>\n",
              "      <td>2024-01-01</td>\n",
              "      <td>Thịnh hành</td>\n",
              "      <td>Bìa Mềm</td>\n",
              "      <td>0-2</td>\n",
              "      <td>Văn Học</td>\n",
              "      <td>263.0</td>\n",
              "      <td>3</td>\n",
              "    </tr>\n",
              "    <tr>\n",
              "      <th>2</th>\n",
              "      <td>8934974182375</td>\n",
              "      <td>Người Đàn Ông Mang Tên OVE (Tái Bản)</td>\n",
              "      <td>2500</td>\n",
              "      <td>160000</td>\n",
              "      <td>Fredrik Backman</td>\n",
              "      <td>Hoàng Anh</td>\n",
              "      <td>Tiếng Việt</td>\n",
              "      <td>2022-01-01</td>\n",
              "      <td>Thịnh hành</td>\n",
              "      <td>Bìa Mềm</td>\n",
              "      <td>0-2</td>\n",
              "      <td>Văn Học</td>\n",
              "      <td>452.0</td>\n",
              "      <td>3</td>\n",
              "    </tr>\n",
              "    <tr>\n",
              "      <th>3</th>\n",
              "      <td>8935235228351</td>\n",
              "      <td>Cây Cam Ngọt Của Tôi</td>\n",
              "      <td>2900</td>\n",
              "      <td>108000</td>\n",
              "      <td>José Mauro de Vasconcelos</td>\n",
              "      <td>Nguyễn Bích Lan, Tô Yến Ly</td>\n",
              "      <td>Tiếng Việt</td>\n",
              "      <td>2020-01-01</td>\n",
              "      <td>Thịnh hành</td>\n",
              "      <td>Bìa Mềm</td>\n",
              "      <td>3-4.5</td>\n",
              "      <td>Văn Học</td>\n",
              "      <td>244.0</td>\n",
              "      <td>3</td>\n",
              "    </tr>\n",
              "    <tr>\n",
              "      <th>4</th>\n",
              "      <td>8936213491613</td>\n",
              "      <td>Hà Thanh Hải Yến - Ngang Qua Ngõ Nhỏ Bình An</td>\n",
              "      <td>190</td>\n",
              "      <td>196000</td>\n",
              "      <td>Quất Tử Bất Toan</td>\n",
              "      <td>Lục Bích</td>\n",
              "      <td>Tiếng Việt</td>\n",
              "      <td>2024-01-01</td>\n",
              "      <td>Thịnh hành</td>\n",
              "      <td>Bìa Mềm</td>\n",
              "      <td>0-2</td>\n",
              "      <td>Văn Học</td>\n",
              "      <td>324.0</td>\n",
              "      <td>3</td>\n",
              "    </tr>\n",
              "  </tbody>\n",
              "</table>\n",
              "</div>"
            ],
            "text/plain": [
              "         Mã sách                                           Tên sách  Lượt bán  \\\n",
              "0  8936214272648                                    Góc Nhỏ Có Nắng     10000   \n",
              "1  8932000134749  Nếu Biết Trăm Năm Là Hữu Hạn - Ấn Bản Kỉ Niệm ...      1900   \n",
              "2  8934974182375               Người Đàn Ông Mang Tên OVE (Tái Bản)      2500   \n",
              "3  8935235228351                               Cây Cam Ngọt Của Tôi      2900   \n",
              "4  8936213491613       Hà Thanh Hải Yến - Ngang Qua Ngõ Nhỏ Bình An       190   \n",
              "\n",
              "      Giá                    Tác giả                  Người dịch    Ngôn ngữ  \\\n",
              "0   68000             Little Rainbow              Little Rainbow  Tiếng Việt   \n",
              "1  159000                 Phạm Lữ Ân                  Phạm Lữ Ân  Tiếng Việt   \n",
              "2  160000            Fredrik Backman                   Hoàng Anh  Tiếng Việt   \n",
              "3  108000  José Mauro de Vasconcelos  Nguyễn Bích Lan, Tô Yến Ly  Tiếng Việt   \n",
              "4  196000           Quất Tử Bất Toan                    Lục Bích  Tiếng Việt   \n",
              "\n",
              "  Năm xuất bản    Xu hướng Hình thức Ratings Thể loại  Số trang  Xu hướng số  \n",
              "0   2024-01-01  Thịnh hành   Bìa Mềm   4.5-5  Văn Học      64.0            3  \n",
              "1   2024-01-01  Thịnh hành   Bìa Mềm     0-2  Văn Học     263.0            3  \n",
              "2   2022-01-01  Thịnh hành   Bìa Mềm     0-2  Văn Học     452.0            3  \n",
              "3   2020-01-01  Thịnh hành   Bìa Mềm   3-4.5  Văn Học     244.0            3  \n",
              "4   2024-01-01  Thịnh hành   Bìa Mềm     0-2  Văn Học     324.0            3  "
            ]
          },
          "execution_count": 24,
          "metadata": {},
          "output_type": "execute_result"
        }
      ],
      "source": [
        "bubble_chart_df = df.copy()\n",
        "\n",
        "# Chia cột Ratings thành các khoảng\n",
        "bins = [0, 2, 3, 4.5, 5]\n",
        "labels = ['0-2', '2-3', '3-4.5', '4.5-5']\n",
        "bubble_chart_df['Ratings'] = pd.cut(bubble_chart_df['Ratings'], bins=bins, labels=labels, include_lowest=True)\n",
        "\n",
        "bubble_chart_df['Xu hướng số'] = bubble_chart_df['Xu hướng'].map({\n",
        "    'Bình thường': 1,\n",
        "    'Bán chạy': 2,\n",
        "    'Thịnh hành': 3\n",
        "})\n",
        "\n",
        "# Hiển thị DataFrame\n",
        "bubble_chart_df.head()"
      ]
    },
    {
      "cell_type": "code",
      "execution_count": 25,
      "metadata": {},
      "outputs": [],
      "source": [
        "bubble_chart_df.to_csv('./data/bubble_chart_data.csv', index=False, encoding='utf-8-sig')"
      ]
    },
    {
      "cell_type": "code",
      "execution_count": 26,
      "metadata": {},
      "outputs": [
        {
          "data": {
            "text/html": [
              "<div>\n",
              "<style scoped>\n",
              "    .dataframe tbody tr th:only-of-type {\n",
              "        vertical-align: middle;\n",
              "    }\n",
              "\n",
              "    .dataframe tbody tr th {\n",
              "        vertical-align: top;\n",
              "    }\n",
              "\n",
              "    .dataframe thead th {\n",
              "        text-align: right;\n",
              "    }\n",
              "</style>\n",
              "<table border=\"1\" class=\"dataframe\">\n",
              "  <thead>\n",
              "    <tr style=\"text-align: right;\">\n",
              "      <th></th>\n",
              "      <th>Thể loại</th>\n",
              "      <th>Lượt bán</th>\n",
              "      <th>Giá trung bình</th>\n",
              "      <th>Đánh giá trung bình</th>\n",
              "      <th>Độ dài</th>\n",
              "    </tr>\n",
              "  </thead>\n",
              "  <tbody>\n",
              "    <tr>\n",
              "      <th>0</th>\n",
              "      <td>Báo - Tạp Chí</td>\n",
              "      <td>2.645106</td>\n",
              "      <td>1.000000</td>\n",
              "      <td>2.364206</td>\n",
              "      <td>1.882610</td>\n",
              "    </tr>\n",
              "    <tr>\n",
              "      <th>1</th>\n",
              "      <td>Chính Trị - Pháp Lý - Triết Học</td>\n",
              "      <td>2.545688</td>\n",
              "      <td>2.859328</td>\n",
              "      <td>2.870394</td>\n",
              "      <td>3.123334</td>\n",
              "    </tr>\n",
              "    <tr>\n",
              "      <th>2</th>\n",
              "      <td>Giáo Khoa - Tham Khảo</td>\n",
              "      <td>2.690729</td>\n",
              "      <td>2.350603</td>\n",
              "      <td>2.702819</td>\n",
              "      <td>2.677894</td>\n",
              "    </tr>\n",
              "    <tr>\n",
              "      <th>3</th>\n",
              "      <td>Giáo Trình</td>\n",
              "      <td>2.446503</td>\n",
              "      <td>3.393945</td>\n",
              "      <td>2.106566</td>\n",
              "      <td>3.703678</td>\n",
              "    </tr>\n",
              "    <tr>\n",
              "      <th>4</th>\n",
              "      <td>Khoa Học Kỹ Thuật</td>\n",
              "      <td>3.292105</td>\n",
              "      <td>4.182294</td>\n",
              "      <td>3.001093</td>\n",
              "      <td>3.411371</td>\n",
              "    </tr>\n",
              "  </tbody>\n",
              "</table>\n",
              "</div>"
            ],
            "text/plain": [
              "                          Thể loại  Lượt bán  Giá trung bình  \\\n",
              "0                    Báo - Tạp Chí  2.645106        1.000000   \n",
              "1  Chính Trị - Pháp Lý - Triết Học  2.545688        2.859328   \n",
              "2            Giáo Khoa - Tham Khảo  2.690729        2.350603   \n",
              "3                       Giáo Trình  2.446503        3.393945   \n",
              "4                Khoa Học Kỹ Thuật  3.292105        4.182294   \n",
              "\n",
              "   Đánh giá trung bình    Độ dài  \n",
              "0             2.364206  1.882610  \n",
              "1             2.870394  3.123334  \n",
              "2             2.702819  2.677894  \n",
              "3             2.106566  3.703678  \n",
              "4             3.001093  3.411371  "
            ]
          },
          "execution_count": 26,
          "metadata": {},
          "output_type": "execute_result"
        }
      ],
      "source": [
        "from sklearn.preprocessing import StandardScaler\n",
        "import pandas as pd\n",
        "\n",
        "# Tính toán các giá trị cần thiết\n",
        "radar_data = df.groupby('Thể loại').agg({\n",
        "    'Lượt bán': 'sum',  # Tổng lượt bán\n",
        "    'Giá': 'mean',  # Giá trung bình\n",
        "    'Ratings': 'mean',  # Đánh giá trung bình\n",
        "    'Số trang': 'mean'  # Độ dài trung bình\n",
        "}).reset_index()\n",
        "\n",
        "# Đổi tên cột\n",
        "radar_data.rename(columns={\n",
        "    'Ratings': 'Đánh giá trung bình',\n",
        "    'Số trang': 'Độ dài',\n",
        "    'Giá': 'Giá trung bình'\n",
        "}, inplace=True)\n",
        "\n",
        "# Chuẩn hóa dữ liệu bằng StandardScaler\n",
        "scaler = StandardScaler()\n",
        "scaled_values = scaler.fit_transform(radar_data.iloc[:, 1:])  # Chỉ scale các cột số\n",
        "\n",
        "# Shift giá trị về trục dương\n",
        "min_value = scaled_values.min()\n",
        "if min_value < 0:\n",
        "    scaled_values += abs(min_value) + 1\n",
        "\n",
        "# Tạo DataFrame đã chuẩn hóa\n",
        "radar_scaled = pd.DataFrame(scaled_values, columns=radar_data.columns[1:])\n",
        "radar_scaled['Thể loại'] = radar_data['Thể loại']\n",
        "\n",
        "# Sắp xếp lại thứ tự cột\n",
        "radar_scaled = radar_scaled[['Thể loại', 'Lượt bán', 'Giá trung bình', 'Đánh giá trung bình', 'Độ dài']]\n",
        "\n",
        "# Hiển thị DataFrame đã chuẩn hóa\n",
        "radar_scaled.head()"
      ]
    },
    {
      "cell_type": "code",
      "execution_count": 27,
      "metadata": {},
      "outputs": [
        {
          "data": {
            "text/html": [
              "<div>\n",
              "<style scoped>\n",
              "    .dataframe tbody tr th:only-of-type {\n",
              "        vertical-align: middle;\n",
              "    }\n",
              "\n",
              "    .dataframe tbody tr th {\n",
              "        vertical-align: top;\n",
              "    }\n",
              "\n",
              "    .dataframe thead th {\n",
              "        text-align: right;\n",
              "    }\n",
              "</style>\n",
              "<table border=\"1\" class=\"dataframe\">\n",
              "  <thead>\n",
              "    <tr style=\"text-align: right;\">\n",
              "      <th></th>\n",
              "      <th>Lượt bán</th>\n",
              "      <th>Giá trung bình</th>\n",
              "      <th>Đánh giá trung bình</th>\n",
              "      <th>Độ dài</th>\n",
              "    </tr>\n",
              "  </thead>\n",
              "  <tbody>\n",
              "    <tr>\n",
              "      <th>count</th>\n",
              "      <td>22.000000</td>\n",
              "      <td>22.000000</td>\n",
              "      <td>22.000000</td>\n",
              "      <td>22.000000</td>\n",
              "    </tr>\n",
              "    <tr>\n",
              "      <th>mean</th>\n",
              "      <td>3.173632</td>\n",
              "      <td>3.173632</td>\n",
              "      <td>3.173632</td>\n",
              "      <td>3.173632</td>\n",
              "    </tr>\n",
              "    <tr>\n",
              "      <th>std</th>\n",
              "      <td>1.023533</td>\n",
              "      <td>1.023533</td>\n",
              "      <td>1.023533</td>\n",
              "      <td>1.023533</td>\n",
              "    </tr>\n",
              "    <tr>\n",
              "      <th>min</th>\n",
              "      <td>2.374766</td>\n",
              "      <td>1.000000</td>\n",
              "      <td>2.106566</td>\n",
              "      <td>1.882610</td>\n",
              "    </tr>\n",
              "    <tr>\n",
              "      <th>25%</th>\n",
              "      <td>2.454641</td>\n",
              "      <td>2.818697</td>\n",
              "      <td>2.389971</td>\n",
              "      <td>2.630646</td>\n",
              "    </tr>\n",
              "    <tr>\n",
              "      <th>50%</th>\n",
              "      <td>2.642638</td>\n",
              "      <td>3.174207</td>\n",
              "      <td>2.853184</td>\n",
              "      <td>3.075172</td>\n",
              "    </tr>\n",
              "    <tr>\n",
              "      <th>75%</th>\n",
              "      <td>3.600514</td>\n",
              "      <td>3.972418</td>\n",
              "      <td>3.490404</td>\n",
              "      <td>3.473950</td>\n",
              "    </tr>\n",
              "    <tr>\n",
              "      <th>max</th>\n",
              "      <td>5.803631</td>\n",
              "      <td>4.686259</td>\n",
              "      <td>5.718039</td>\n",
              "      <td>6.992020</td>\n",
              "    </tr>\n",
              "  </tbody>\n",
              "</table>\n",
              "</div>"
            ],
            "text/plain": [
              "        Lượt bán  Giá trung bình  Đánh giá trung bình     Độ dài\n",
              "count  22.000000       22.000000            22.000000  22.000000\n",
              "mean    3.173632        3.173632             3.173632   3.173632\n",
              "std     1.023533        1.023533             1.023533   1.023533\n",
              "min     2.374766        1.000000             2.106566   1.882610\n",
              "25%     2.454641        2.818697             2.389971   2.630646\n",
              "50%     2.642638        3.174207             2.853184   3.075172\n",
              "75%     3.600514        3.972418             3.490404   3.473950\n",
              "max     5.803631        4.686259             5.718039   6.992020"
            ]
          },
          "execution_count": 27,
          "metadata": {},
          "output_type": "execute_result"
        }
      ],
      "source": [
        "radar_scaled.describe()"
      ]
    },
    {
      "cell_type": "code",
      "execution_count": 28,
      "metadata": {},
      "outputs": [],
      "source": [
        "radar_scaled.to_csv('./data/radar_chart_data.csv', index=False, encoding='utf-8-sig')"
      ]
    }
  ],
  "metadata": {
    "colab": {
      "provenance": []
    },
    "kernelspec": {
      "display_name": "Python 3",
      "name": "python3"
    },
    "language_info": {
      "codemirror_mode": {
        "name": "ipython",
        "version": 3
      },
      "file_extension": ".py",
      "mimetype": "text/x-python",
      "name": "python",
      "nbconvert_exporter": "python",
      "pygments_lexer": "ipython3",
      "version": "3.12.1"
    }
  },
  "nbformat": 4,
  "nbformat_minor": 0
}
